{
 "cells": [
  {
   "attachments": {},
   "cell_type": "markdown",
   "id": "fe2d00d7-c88e-4c5c-a2ca-8d6bc78ebe3e",
   "metadata": {
    "tags": []
   },
   "source": [
    "# Qubit Tune-up with SHF Instruments\n",
    "\n",
    "In this notebook we demonstrate qubit tuneup with the LabOne Q software, implemented as a sequence of experiments. \n",
    "\n",
    "Before starting the experiments, we define a set of initial qubit parameters, as might be known from fabrication. \n",
    "\n",
    "These parameters can then be used to update the baseline calibration used in the experiments."
   ]
  },
  {
   "attachments": {},
   "cell_type": "markdown",
   "id": "4d4e7d0b-b53a-40e4-831c-236ed9d97c42",
   "metadata": {},
   "source": [
    "## 0. General Imports and Definitions\n",
    "### 0.1 Python Imports "
   ]
  },
  {
   "cell_type": "code",
   "execution_count": null,
   "id": "f383ab20",
   "metadata": {},
   "outputs": [],
   "source": [
    "# LabOne Q:\n",
    "from laboneq.simple import *\n",
    "\n",
    "# plotting and fitting functionality\n",
    "from laboneq.analysis.fitting import (\n",
    "    lorentzian,\n",
    "    oscillatory,\n",
    "    oscillatory_decay,\n",
    ")\n",
    "from laboneq.contrib.example_helpers.plotting.plot_helpers import plot_simulation\n",
    "\n",
    "# descriptor imports\n",
    "from laboneq.contrib.example_helpers.descriptors.shfsg_shfqa_pqsc import (\n",
    "    descriptor_shfsg_shfqa_pqsc,\n",
    ")\n",
    "\n",
    "# for saving results and pulse sheets\n",
    "from pathlib import Path\n",
    "import time\n",
    "\n",
    "import matplotlib.pyplot as plt\n",
    "import numpy as np"
   ]
  },
  {
   "attachments": {},
   "cell_type": "markdown",
   "id": "0d9141f7-3fc4-4e0e-b553-59ea490e84cc",
   "metadata": {
    "tags": []
   },
   "source": [
    "## 1. Define the Instrument Setup and Required Experimental Parameters\n",
    "### 1.1 Create device setup\n",
    "\n",
    "Create the device setup from the descriptor, and apply some convenient mapping to instruments and logical signals."
   ]
  },
  {
   "cell_type": "code",
   "execution_count": null,
   "id": "57226b3c",
   "metadata": {},
   "outputs": [],
   "source": [
    "# Define and Load our Device Setup\n",
    "device_setup = DeviceSetup.from_descriptor(\n",
    "    # yaml_text=descriptor_shfqc,\n",
    "    yaml_text=descriptor_shfsg_shfqa_pqsc,\n",
    "    server_host=\"ip_address\",  # ip address of the LabOne dataserver used to communicate with the instruments\n",
    "    server_port=\"8004\",  # port number of the dataserver - default is 8004\n",
    "    setup_name=\"my_setup\",  # setup name\n",
    ")\n",
    "\n",
    "# define shortcut to logical signals for convenience\n",
    "lsg = {\n",
    "    qubit_name: device_setup.logical_signal_groups[qubit_name].logical_signals\n",
    "    for qubit_name in device_setup.logical_signal_groups.keys()\n",
    "}"
   ]
  },
  {
   "cell_type": "code",
   "execution_count": null,
   "id": "16442c60",
   "metadata": {},
   "outputs": [],
   "source": [
    "# shfqa_address = []\n",
    "# shfsg_address = []\n",
    "# hdawg_address = []\n",
    "# for instrument in device_setup.instruments:\n",
    "#     if \"QA\" in instrument.uid.upper():\n",
    "#         # print(device_setup.instruments[i].address)\n",
    "#         shfqa_address.append(instrument.address)\n",
    "#     if \"SG\" in instrument.uid.upper():\n",
    "#         # print(device_setup.instruments[i].address)\n",
    "#         shfsg_address.append(instrument.address)\n",
    "#     if \"HD\" in instrument.uid.upper():\n",
    "#         # print(device_setup.instruments[i].address)\n",
    "#         hdawg_address.append(instrument.address)"
   ]
  },
  {
   "attachments": {},
   "cell_type": "markdown",
   "id": "ccd7bbc2-5a08-448a-ae5a-1273f2879a7f",
   "metadata": {
    "tags": []
   },
   "source": [
    "### 1.2 Qubit Parameters\n",
    "\n",
    "A python dictionary containing all parameters needed to control and readout the qubits - frequencies, pulse lengths, timings\n",
    "\n",
    "May initially contain only the design parameters and will be updated with measurement results during the tuneup procedure"
   ]
  },
  {
   "cell_type": "code",
   "execution_count": null,
   "id": "e5ca3e9f",
   "metadata": {},
   "outputs": [],
   "source": [
    "# a function to define a collection of single qubit control and readout parameters as a python dictionary\n",
    "\n",
    "\n",
    "def single_qubit_parameters():\n",
    "    return {\n",
    "        \"freq\": 100e6,  # qubit 0 drive frequency in [Hz] - relative to local oscillator for qubit drive upconversion\n",
    "        \"ro_freq\": 5e6,  # 50e6,\n",
    "        \"ro_delay\": 0,  # 15e-9,#100e-9,\n",
    "        \"ro_int_delay\": 0,  # 40-9,\n",
    "        \"qb_len_spec\": 1e-6,\n",
    "        \"qb_len\": 700e-9,\n",
    "        \"qb_amp_spec\": 1.0,\n",
    "        \"pi_amp\": 1,\n",
    "        \"freq_ef\": -500e6,\n",
    "    }\n",
    "\n",
    "\n",
    "# for sake of simplicity, give all qubits the same initial parameters\n",
    "qubit_parameters = {\n",
    "    k: single_qubit_parameters() for k in device_setup.logical_signal_groups.keys()\n",
    "}\n",
    "\n",
    "\n",
    "# up / downconversion settings - to convert between IF and RF frequencies\n",
    "def single_lo_settings():\n",
    "    return {\n",
    "        # SHFQA LO Frequency\n",
    "        \"shfqa_lo\": 8.0e9,\n",
    "        # SHFSG LO Frequencies, one center frequency per two channels on SHFQC\n",
    "        \"shfsg_lo\": 5.0e9,\n",
    "    }\n",
    "\n",
    "\n",
    "lo_settings = {\n",
    "    k: single_lo_settings() for k in device_setup.logical_signal_groups.keys()\n",
    "}"
   ]
  },
  {
   "attachments": {},
   "cell_type": "markdown",
   "id": "1cf5143d-d3dc-48e9-9636-7c429a290f83",
   "metadata": {
    "tags": []
   },
   "source": [
    "### 1.3 Setup Calibration\n",
    "\n",
    "Generate a calibration object from the qubit control and readout parameters"
   ]
  },
  {
   "cell_type": "code",
   "execution_count": null,
   "id": "ec886946",
   "metadata": {},
   "outputs": [],
   "source": [
    "# function that defines the device settings for qubit and readout parameters\n",
    "\n",
    "\n",
    "def define_calibration(device_setup, parameters, lo_settings):\n",
    "    # Define LOs\n",
    "    def single_oscillator(id, qubit, lo_type):\n",
    "        oscillator = Oscillator()\n",
    "        oscillator.uid = f\"{id}\" + f\"{qubit}\" + \"_osc\"\n",
    "        oscillator.frequency = lo_settings[qubit][lo_type]\n",
    "        return oscillator\n",
    "\n",
    "    readout_lo_dict = {\n",
    "        k: single_oscillator(\"readout_lo_\", k, \"shfqa_lo\")\n",
    "        for k in device_setup.logical_signal_groups.keys()\n",
    "    }\n",
    "\n",
    "    drive_lo_dict = {\n",
    "        k: single_oscillator(\"drive_lo_\", k, \"shfsg_lo\")\n",
    "        for k in device_setup.logical_signal_groups.keys()\n",
    "    }\n",
    "\n",
    "    # the calibration object will later be applied to the device setup\n",
    "    calibration = Calibration()\n",
    "\n",
    "    # qubits q0-q3 are multiplexed on one acquisition line\n",
    "    calibration[\n",
    "        device_setup.logical_signal_groups[\"q0\"].logical_signals[\"acquire_line\"]\n",
    "    ] = SignalCalibration(\n",
    "        oscillator=Oscillator(\n",
    "            frequency=parameters[\"q0\"][\"ro_freq\"],\n",
    "            modulation_type=ModulationType.SOFTWARE,\n",
    "        ),\n",
    "        # add an offset between the readout pulse and the start of the data acquisition - to compensate for round-trip time of readout pulse\n",
    "        port_delay=parameters[\"q0\"][\"ro_delay\"] + parameters[\"q0\"][\"ro_int_delay\"],\n",
    "        local_oscillator=readout_lo_dict[\"q0\"],\n",
    "        range=5,\n",
    "    )\n",
    "\n",
    "    for logical_signal_group in device_setup.logical_signal_groups.keys():\n",
    "        # measure line\n",
    "        calibration[\n",
    "            device_setup.logical_signal_groups[logical_signal_group].logical_signals[\n",
    "                \"measure_line\"\n",
    "            ]\n",
    "        ] = SignalCalibration(\n",
    "            oscillator=Oscillator(\n",
    "                frequency=parameters[logical_signal_group][\"ro_freq\"],\n",
    "                modulation_type=ModulationType.SOFTWARE,\n",
    "            ),\n",
    "            port_delay=parameters[\"q0\"][\"ro_delay\"],\n",
    "            local_oscillator=readout_lo_dict[\"q0\"],\n",
    "            range=5,\n",
    "        )\n",
    "\n",
    "        calibration[\n",
    "            device_setup.logical_signal_groups[logical_signal_group].logical_signals[\n",
    "                \"drive_line\"\n",
    "            ]\n",
    "        ] = SignalCalibration(\n",
    "            # each logical signal can have an oscillator associated with it\n",
    "            oscillator=Oscillator(\n",
    "                frequency=parameters[logical_signal_group][\"freq\"],\n",
    "                modulation_type=ModulationType.HARDWARE,\n",
    "            ),\n",
    "            # DANGER! Verify which qubits share the same LOs!\n",
    "            local_oscillator=drive_lo_dict[logical_signal_group],\n",
    "            range=5,\n",
    "        )\n",
    "    return calibration"
   ]
  },
  {
   "attachments": {},
   "cell_type": "markdown",
   "id": "f147afc0-dcde-4475-a96c-2a5e53e5176e",
   "metadata": {
    "tags": []
   },
   "source": [
    "## 2. Apply Calibration Data, Connect to the Instruments\n",
    "### 2.1 Set Calibration\n",
    "\n",
    "Create qubit control and readout calibration, and apply it to the device setup."
   ]
  },
  {
   "cell_type": "code",
   "execution_count": null,
   "id": "c1e945e7",
   "metadata": {},
   "outputs": [],
   "source": [
    "# define Calibration object based on qubit control and readout parameters\n",
    "calibration = define_calibration(device_setup, qubit_parameters, lo_settings)\n",
    "# apply calibration to device setup\n",
    "device_setup.set_calibration(calibration)"
   ]
  },
  {
   "attachments": {},
   "cell_type": "markdown",
   "id": "62ae58f8-4016-43e2-8c33-ee88645c7268",
   "metadata": {},
   "source": [
    "### 2.2 Create and Connect to a QCCS Session \n",
    "\n",
    "Establishes the connection to the instruments and readies them for experiments"
   ]
  },
  {
   "cell_type": "code",
   "execution_count": null,
   "id": "6bb93815",
   "metadata": {},
   "outputs": [],
   "source": [
    "# perform experiments in emulation mode only? - if True, also generate dummy data for fitting\n",
    "emulate = True\n",
    "\n",
    "# create and connect to a session\n",
    "session = Session(device_setup=device_setup)\n",
    "session.connect(do_emulation=emulate)"
   ]
  },
  {
   "attachments": {},
   "cell_type": "markdown",
   "id": "7f026e91-dff5-4548-9ecd-fb6db4f85a50",
   "metadata": {
    "tags": []
   },
   "source": [
    "## 3. Qubit Tuneup - Experimental Sequence\n",
    "\n",
    "Sequence of experiments for tuneup from scratch of a superconducting qubit in circuit QED architecture "
   ]
  },
  {
   "attachments": {},
   "cell_type": "markdown",
   "id": "18e4a41a-b1c7-432e-8cbf-d845da55b19a",
   "metadata": {
    "tags": []
   },
   "source": [
    "### 3.1 Resonator Spectroscopy: CW\n",
    "\n",
    "Find the resonance frequency of the qubit readout resonator by looking at the transmission or reflection of a probe signal applied through the readout line"
   ]
  },
  {
   "attachments": {},
   "cell_type": "markdown",
   "id": "42dc8040-ce2a-4a52-8e14-cf87f0c52916",
   "metadata": {
    "tags": []
   },
   "source": [
    "#### 3.1.1 Additional Experimental Parameters\n",
    "\n",
    "Define the frequency scan"
   ]
  },
  {
   "cell_type": "code",
   "execution_count": null,
   "id": "ec430d0c",
   "metadata": {},
   "outputs": [],
   "source": [
    "# frequency range of spectroscopy scan - around expected centre frequency as defined in qubit parameters\n",
    "start_freq = -500.0e6\n",
    "stop_freq = 500.0e6\n",
    "num_points = 501\n",
    "integration_time = 1e-3\n",
    "num_averages = 2\n",
    "\n",
    "\n",
    "# define sweep parameter\n",
    "def create_readout_freq_sweep(qubit, start_freq, stop_freq, num_points):\n",
    "    return LinearSweepParameter(\n",
    "        uid=f\"res_freq_{qubit}\",\n",
    "        start=start_freq + qubit_parameters[qubit][\"ro_freq\"],\n",
    "        stop=stop_freq + qubit_parameters[qubit][\"ro_freq\"],\n",
    "        count=num_points,\n",
    "    )"
   ]
  },
  {
   "attachments": {},
   "cell_type": "markdown",
   "id": "44bed766-917f-4d01-98c8-86c6e841fc44",
   "metadata": {
    "tags": []
   },
   "source": [
    "#### 3.1.2 Experiment Definition\n",
    "\n",
    "Define the experimental pulse and readout sequence - here without any explicit qubit reference\n",
    "\n",
    "Explicit qubit reference is then given through different experimental calibration and signal maps"
   ]
  },
  {
   "cell_type": "code",
   "execution_count": null,
   "id": "0a23b124",
   "metadata": {},
   "outputs": [],
   "source": [
    "# function that defines a resonator spectroscopy experiment, and takes the frequency sweep as a parameter\n",
    "\n",
    "\n",
    "def res_spectroscopy_CW(freq_sweep, exp_settings):\n",
    "    # Create resonator spectroscopy experiment - uses only readout drive and signal acquisition\n",
    "    exp_spec = Experiment(\n",
    "        uid=\"Resonator Spectroscopy\",\n",
    "        signals=[\n",
    "            ExperimentSignal(\"measure\"),\n",
    "            ExperimentSignal(\"acquire\"),\n",
    "        ],\n",
    "    )\n",
    "\n",
    "    ## define experimental sequence\n",
    "    # loop - average multiple measurements for each frequency - measurement in spectroscopy mode\n",
    "    with exp_spec.acquire_loop_rt(\n",
    "        uid=\"shots\",\n",
    "        count=exp_settings[\"num_averages\"],\n",
    "        acquisition_type=AcquisitionType.SPECTROSCOPY,\n",
    "    ):\n",
    "        with exp_spec.sweep(uid=\"res_freq\", parameter=freq_sweep):\n",
    "            # readout pulse and data acquisition\n",
    "            with exp_spec.section(uid=\"spectroscopy\"):\n",
    "                # resonator signal readout\n",
    "                exp_spec.acquire(\n",
    "                    signal=\"acquire\",\n",
    "                    handle=\"res_spec\",\n",
    "                    length=exp_settings[\"integration_time\"],\n",
    "                )\n",
    "            # relax time after readout - for qubit relaxation to groundstate and signal processing\n",
    "            with exp_spec.section(uid=\"relax\", length=1e-6):\n",
    "                exp_spec.reserve(signal=\"measure\")\n",
    "\n",
    "    return exp_spec"
   ]
  },
  {
   "cell_type": "code",
   "execution_count": null,
   "id": "ef6af11c",
   "metadata": {},
   "outputs": [],
   "source": [
    "# function that returns the calibration of the readout line oscillator for the experimental signals\n",
    "\n",
    "\n",
    "def res_spec_calib(frequency_sweep, amplitude_sweep=None):\n",
    "    exp_calibration = Calibration()\n",
    "    # sets the oscillator of the experimental measure signal\n",
    "    exp_calibration[\"measure\"] = SignalCalibration(\n",
    "        # for spectroscopy, use the hardware oscillator of the QA, and set the sweep parameter as frequency\n",
    "        oscillator=Oscillator(\n",
    "            \"readout_osc\",\n",
    "            frequency=frequency_sweep,\n",
    "            modulation_type=ModulationType.HARDWARE,\n",
    "        ),\n",
    "        amplitude=amplitude_sweep,\n",
    "    )\n",
    "    return exp_calibration\n",
    "\n",
    "\n",
    "# signal maps for the two different qubits - maps the logical signal of the device setup to the experimental signals of the experiment\n",
    "\n",
    "\n",
    "def res_spec_map(qubit):\n",
    "    signal_map = {\n",
    "        \"measure\": device_setup.logical_signal_groups[f\"{qubit}\"].logical_signals[\n",
    "            \"measure_line\"\n",
    "        ],\n",
    "        \"acquire\": device_setup.logical_signal_groups[f\"{qubit}\"].logical_signals[\n",
    "            \"acquire_line\"\n",
    "        ],\n",
    "    }\n",
    "    return signal_map"
   ]
  },
  {
   "attachments": {},
   "cell_type": "markdown",
   "id": "818a5d99-8982-4758-8120-446be6f0a016",
   "metadata": {
    "tags": []
   },
   "source": [
    "#### 3.1.3 Run and Evaluate Experiment\n",
    "Runs the experiment and evaluates the data returned by the measurement"
   ]
  },
  {
   "cell_type": "code",
   "execution_count": null,
   "id": "4c2fae1a",
   "metadata": {},
   "outputs": [],
   "source": [
    "# define the experiment with the frequency sweep relevant for qubit 0\n",
    "freq_sweep = create_readout_freq_sweep(\"q0\", start_freq, stop_freq, num_points)\n",
    "exp_settings = {\"integration_time\": integration_time, \"num_averages\": num_averages}\n",
    "exp_spec = res_spectroscopy_CW(freq_sweep, exp_settings)\n",
    "\n",
    "# set signal calibration and signal map for experiment to qubit 0\n",
    "exp_spec.set_calibration(res_spec_calib(freq_sweep))"
   ]
  },
  {
   "cell_type": "code",
   "execution_count": null,
   "id": "2bf09b4c",
   "metadata": {},
   "outputs": [],
   "source": [
    "exp_spec.set_signal_map(res_spec_map(\"q0\"))\n",
    "\n",
    "# run the experiment on the open instrument session\n",
    "compiled_res_spec = session.compile(exp_spec)\n",
    "res_spec_results = session.run()"
   ]
  },
  {
   "cell_type": "code",
   "execution_count": null,
   "id": "e7c91894",
   "metadata": {},
   "outputs": [],
   "source": [
    "# get the measurement data returned by the instruments from the QCCS session\n",
    "spec_res = res_spec_results.get_data(\"res_spec\")\n",
    "# define the frequency axis from the qubit parameters\n",
    "spec_freq = lo_settings[\"q0\"][\"shfqa_lo\"] + res_spec_results.get_axis(\"res_spec\")[0]\n",
    "\n",
    "if emulate:\n",
    "    # create some dummy data if running in emulation mode\n",
    "    spec_res = lorentzian(\n",
    "        spec_freq,\n",
    "        10e6,\n",
    "        qubit_parameters[\"q0\"][\"ro_freq\"] * (0.995 + 0.01 * np.random.rand(1)[0])\n",
    "        + lo_settings[\"q0\"][\"shfqa_lo\"],\n",
    "        -1e7,\n",
    "        10,\n",
    "    ) + 0.2 * np.random.rand(len(spec_freq))\n",
    "\n",
    "# plot the measurement data\n",
    "fig, [ax1, ax2] = plt.subplots(2, 1)\n",
    "ax1.plot(spec_freq / 1e9, abs(spec_res), \".k\")\n",
    "ax2.plot(spec_freq / 1e9, np.unwrap(np.angle(spec_res)), \"orange\")\n",
    "ax1.set_ylabel(\"A (a.u.)\")\n",
    "ax2.set_ylabel(\"$\\\\phi$ (rad)\")\n",
    "ax2.set_xlabel(\"Frequency (GHz)\")\n",
    "\n",
    "\n",
    "plt.show()"
   ]
  },
  {
   "cell_type": "code",
   "execution_count": null,
   "id": "93653f50",
   "metadata": {},
   "outputs": [],
   "source": [
    "(p_opt, b) = lorentzian.fit(\n",
    "    spec_freq,\n",
    "    -abs(spec_res),\n",
    "    50e6,\n",
    "    lo_settings[\"q0\"][\"shfqa_lo\"],\n",
    "    -1e7,\n",
    "    10,\n",
    "    plot=True,\n",
    ")\n",
    "opt_freq = p_opt[1]\n",
    "print(f\"Resonant frequency: {opt_freq} GHz\")"
   ]
  },
  {
   "attachments": {},
   "cell_type": "markdown",
   "id": "d9a8dc1f",
   "metadata": {},
   "source": [
    "#### 3.1.4 Update Calibration"
   ]
  },
  {
   "cell_type": "code",
   "execution_count": null,
   "id": "e2b228d2",
   "metadata": {},
   "outputs": [],
   "source": [
    "if not emulate:\n",
    "    # update qubit parameter dictionary with results from data fitting\n",
    "    qubit_parameters[\"q0\"][\"ro_freq\"] = opt_freq - lo_settings[\"q0\"][\"shfqa_lo\"]\n",
    "    # update calibration\n",
    "\n",
    "    # apply calibration to device setup\n",
    "    device_setup.set_calibration(\n",
    "        define_calibration(device_setup, qubit_parameters, lo_settings)\n",
    "    )"
   ]
  },
  {
   "attachments": {},
   "cell_type": "markdown",
   "id": "253bbdd5",
   "metadata": {},
   "source": [
    "### 3.2 Resonator Spectroscopy: Pulsed"
   ]
  },
  {
   "cell_type": "markdown",
   "id": "f6a129d9",
   "metadata": {},
   "source": [
    "#### 3.2.1 Additional Experimental Parameters\n",
    "\n",
    "Define the frequency scan and the pulse"
   ]
  },
  {
   "cell_type": "code",
   "execution_count": null,
   "id": "a5a8a5a9",
   "metadata": {},
   "outputs": [],
   "source": [
    "# frequency range of spectroscopy scan -\n",
    "# around expected centre frequency as defined in qubit parameters\n",
    "start_freq = -500e6\n",
    "stop_freq = 500e6\n",
    "num_points = 1001\n",
    "\n",
    "\n",
    "# define sweep parameter\n",
    "def create_readout_freq_sweep(qubit, start_freq, stop_freq, num_points):\n",
    "    return LinearSweepParameter(\n",
    "        uid=f\"{qubit}_res_freq\",\n",
    "        start=start_freq,\n",
    "        stop=stop_freq,\n",
    "        count=num_points,\n",
    "        axis_name=\"Frequency [Hz]\",\n",
    "    )\n",
    "\n",
    "\n",
    "# define number of averages\n",
    "# used for 2^num_averages, maximum: num_averages = 17\n",
    "num_averages = 4\n",
    "\n",
    "# pulse parameters and definitions\n",
    "envelope_duration = 2.0e-6\n",
    "sigma = 0.2\n",
    "flat_duration = 1.0e-6\n",
    "\n",
    "\n",
    "def create_readout_pulse(\n",
    "    qubit, length=envelope_duration, amplitude=0.9, width=flat_duration, sigma=sigma\n",
    "):\n",
    "    readout_pulse = pulse_library.gaussian_square(\n",
    "        uid=f\"readout_pulse_{qubit}\",\n",
    "        length=length,\n",
    "        amplitude=amplitude,\n",
    "        width=width,\n",
    "        sigma=sigma,\n",
    "    )\n",
    "    return readout_pulse\n",
    "\n",
    "\n",
    "readout_pulse = create_readout_pulse(\"q0\")"
   ]
  },
  {
   "cell_type": "markdown",
   "id": "42123d67",
   "metadata": {},
   "source": [
    "#### 3.2.2 Experiment Definition"
   ]
  },
  {
   "cell_type": "code",
   "execution_count": null,
   "id": "33aa6624",
   "metadata": {},
   "outputs": [],
   "source": [
    "# function that defines a resonator spectroscopy experiment, and takes the frequency sweep as a parameter\n",
    "\n",
    "\n",
    "def res_spectroscopy_pulsed(freq_sweep, num_averages, readout_pulse):\n",
    "    # Create resonator spectroscopy experiment - uses only readout drive and signal acquisition\n",
    "    exp_spec_pulsed = Experiment(\n",
    "        uid=\"Resonator Spectroscopy\",\n",
    "        signals=[\n",
    "            ExperimentSignal(\"measure\"),\n",
    "            ExperimentSignal(\"acquire\"),\n",
    "        ],\n",
    "    )\n",
    "\n",
    "    ## define experimental sequence\n",
    "    # outer loop - vary drive frequency\n",
    "\n",
    "    # inner loop - average multiple measurements for each frequency - measurement in spectroscopy mode\n",
    "    with exp_spec_pulsed.acquire_loop_rt(\n",
    "        uid=\"shots\",\n",
    "        count=2**num_averages,\n",
    "        acquisition_type=AcquisitionType.SPECTROSCOPY,\n",
    "        averaging_mode=AveragingMode.SEQUENTIAL,\n",
    "    ):\n",
    "        with exp_spec_pulsed.sweep(\n",
    "            uid=\"res_freq\",\n",
    "            parameter=freq_sweep,\n",
    "            chunk_count=1,\n",
    "        ):\n",
    "            # readout pulse and data acquisition\n",
    "            with exp_spec_pulsed.section(uid=\"spectroscopy\"):\n",
    "                # play resonator excitation pulse\n",
    "                exp_spec_pulsed.play(signal=\"measure\", pulse=readout_pulse)\n",
    "                # resonator signal readout\n",
    "                exp_spec_pulsed.acquire(\n",
    "                    signal=\"acquire\", handle=\"res_spec_pulsed\", length=envelope_duration\n",
    "                )\n",
    "            # relax time after readout - for qubit relaxation to groundstate and signal processing\n",
    "            with exp_spec_pulsed.section(uid=\"relax\", length=1e-6):\n",
    "                exp_spec_pulsed.reserve(signal=\"measure\")\n",
    "\n",
    "    return exp_spec_pulsed"
   ]
  },
  {
   "cell_type": "markdown",
   "id": "355e6399",
   "metadata": {},
   "source": [
    "#### 3.2.3 Apply Experiment Parameters and Compile"
   ]
  },
  {
   "cell_type": "code",
   "execution_count": null,
   "id": "a893e6a4",
   "metadata": {},
   "outputs": [],
   "source": [
    "# create freq sweep\n",
    "freq_sweep = create_readout_freq_sweep(\"q0\", start_freq, stop_freq, num_points)\n",
    "\n",
    "# define the experiment with the frequency sweep relevant for qubit 0\n",
    "exp_spec_pulsed = res_spectroscopy_pulsed(freq_sweep, num_averages, readout_pulse)\n",
    "\n",
    "# set signal calibration and signal map for experiment to qubit 0\n",
    "exp_spec_pulsed.set_calibration(res_spec_calib(freq_sweep))\n",
    "exp_spec_pulsed.set_signal_map(res_spec_map(\"q0\"))"
   ]
  },
  {
   "cell_type": "code",
   "execution_count": null,
   "id": "5d2af057",
   "metadata": {},
   "outputs": [],
   "source": [
    "# compile the experiment on the open instrument session\n",
    "compiled_spec_pulsed = session.compile(exp_spec_pulsed)\n",
    "\n",
    "Path(\"Pulse_Sheets\").mkdir(parents=True, exist_ok=True)\n",
    "\n",
    "# generate a pulse sheet to inspect experiment before runtime\n",
    "show_pulse_sheet(\"Pulse_Sheets/Pulsed_Spectroscopy\", compiled_spec_pulsed)"
   ]
  },
  {
   "cell_type": "markdown",
   "id": "edce904b",
   "metadata": {},
   "source": [
    "#### 3.2.4 Run and Evaluate Experiment"
   ]
  },
  {
   "cell_type": "code",
   "execution_count": null,
   "id": "4d34bff9",
   "metadata": {},
   "outputs": [],
   "source": [
    "# run the experiment on the open instrument session\n",
    "spec_pulsed_results = session.run()"
   ]
  },
  {
   "cell_type": "code",
   "execution_count": null,
   "id": "f93c2ed8",
   "metadata": {},
   "outputs": [],
   "source": [
    "# get the measurement data returned by the instruments from the QCCS session\n",
    "spec_res = spec_pulsed_results.get_data(\"res_spec_pulsed\")\n",
    "# define the frequency axis from the qubit parameters\n",
    "spec_freq = (\n",
    "    lo_settings[\"q0\"][\"shfqa_lo\"] + spec_pulsed_results.get_axis(\"res_spec_pulsed\")[0]\n",
    ")\n",
    "\n",
    "if emulate:\n",
    "    # create some dummy data if running in emulation mode\n",
    "    spec_res = lorentzian(\n",
    "        spec_freq,\n",
    "        10e6,\n",
    "        qubit_parameters[\"q0\"][\"ro_freq\"] * (0.995 + 0.01 * np.random.rand(1)[0])\n",
    "        + lo_settings[\"q0\"][\"shfqa_lo\"],\n",
    "        -2e6,\n",
    "        1,\n",
    "    ) + 0.1 * np.random.rand(len(spec_freq))\n",
    "\n",
    "# plot the measurement data\n",
    "fig, [ax1, ax2] = plt.subplots(2, 1)\n",
    "ax1.plot(spec_freq / 1e9, abs(spec_res), \".k\")\n",
    "ax2.plot(spec_freq / 1e9, np.unwrap(np.angle(spec_res)), \"orange\")\n",
    "ax1.set_ylabel(\"A (a.u.)\")\n",
    "ax2.set_ylabel(\"$\\\\phi$ (rad)\")\n",
    "ax2.set_xlabel(\"Frequency (GHz)\")"
   ]
  },
  {
   "attachments": {},
   "cell_type": "markdown",
   "id": "49394dee",
   "metadata": {},
   "source": [
    "#### 3.2.5 Update calibration\n",
    "Extract the resonance frequency and update the calibration"
   ]
  },
  {
   "cell_type": "code",
   "execution_count": null,
   "id": "302d730f",
   "metadata": {},
   "outputs": [],
   "source": [
    "if not emulate:\n",
    "    (p_opt, b) = lorentzian.fit(\n",
    "        spec_freq,\n",
    "        -abs(spec_res),\n",
    "        10e6,\n",
    "        lo_settings[\"q0\"][\"shfqa_lo\"],\n",
    "        -1e5,\n",
    "        1,\n",
    "        plot=True,\n",
    "    )\n",
    "    opt_freq = p_opt[1]\n",
    "    print(f\"Resonant frequency: {opt_freq} GHz\")\n",
    "    qubit_parameters[\"q0\"][\"ro_freq\"] = opt_freq - lo_settings[\"q0\"][\"shfqa_lo\"]\n",
    "    device_setup.set_calibration(\n",
    "        define_calibration(device_setup, qubit_parameters, lo_settings)\n",
    "    )"
   ]
  },
  {
   "attachments": {},
   "cell_type": "markdown",
   "id": "05c3da67",
   "metadata": {},
   "source": [
    "### 3.3 Resonator Spectroscopy v/ Power\n",
    "* _It is possible to define the spectroscopy experiments in a more general way, so that CW and pulsed spectroscopy can be chosen with an argument to the function. However, this is not done here for the sake of clarity_\n",
    "* _One of the next releases will allow for real-time frequency sweep on the SHFQA, which will make the experiment much faster_\n",
    "#### 3.3.1 Additional experimental parameters"
   ]
  },
  {
   "cell_type": "code",
   "execution_count": null,
   "id": "71049984",
   "metadata": {},
   "outputs": [],
   "source": [
    "# frequency range of spectroscopy scan -\n",
    "# around expected centre frequency as defined in qubit parameters\n",
    "start_freq = -500e6\n",
    "stop_freq = 500e6\n",
    "num_freq_points = 1001\n",
    "\n",
    "# set number of points for amplitude sweep\n",
    "num_amp_points = 21"
   ]
  },
  {
   "cell_type": "markdown",
   "id": "6f2deecf",
   "metadata": {},
   "source": [
    "#### 3.3.2 Experiment Definition"
   ]
  },
  {
   "cell_type": "code",
   "execution_count": null,
   "id": "ed5246e6",
   "metadata": {},
   "outputs": [],
   "source": [
    "# function that defines a resonator spectroscopy experiment, and takes the frequency sweep as a parameter\n",
    "\n",
    "\n",
    "def res_spectroscopy_pulsed_amp_sweep(\n",
    "    frequency_sweep, amplitude_sweep, num_averages, readout_pulse\n",
    "):\n",
    "    # Create resonator spectroscopy experiment - uses only readout drive and signal acquisition\n",
    "    exp_spec = Experiment(\n",
    "        uid=\"Resonator Spectroscopy\",\n",
    "        signals=[\n",
    "            ExperimentSignal(\"measure\"),\n",
    "            ExperimentSignal(\"acquire\"),\n",
    "        ],\n",
    "    )\n",
    "\n",
    "    ## define experimental sequence\n",
    "    # outer loop - vary drive amplitude\n",
    "    with exp_spec.sweep(uid=\"res_amp\", parameter=amplitude_sweep):\n",
    "        with exp_spec.acquire_loop_rt(\n",
    "            uid=\"shots\",\n",
    "            count=2**num_averages,\n",
    "            acquisition_type=AcquisitionType.SPECTROSCOPY,\n",
    "        ):\n",
    "            with exp_spec.sweep(uid=\"res_freq\", parameter=frequency_sweep):\n",
    "                # readout pulse and data acquisition\n",
    "                with exp_spec.section(uid=\"spectroscopy\"):\n",
    "                    # play resonator excitation pulse\n",
    "                    exp_spec.play(signal=\"measure\", pulse=readout_pulse)\n",
    "                    # resonator signal readout\n",
    "                    exp_spec.acquire(\n",
    "                        signal=\"acquire\",\n",
    "                        handle=\"res_spec_pulsed\",\n",
    "                        length=envelope_duration,\n",
    "                    )\n",
    "                # relax time after readout - for qubit relaxation to groundstate and signal processing\n",
    "                with exp_spec.section(uid=\"relax\", length=1e-6):\n",
    "                    exp_spec.reserve(signal=\"measure\")\n",
    "\n",
    "    return exp_spec"
   ]
  },
  {
   "cell_type": "markdown",
   "id": "d335eaa1",
   "metadata": {},
   "source": [
    "#### 3.3.3 Apply Experiment Parameters and Compile"
   ]
  },
  {
   "cell_type": "code",
   "execution_count": null,
   "id": "8b2f7362",
   "metadata": {},
   "outputs": [],
   "source": [
    "amplitude_sweep = LinearSweepParameter(\n",
    "    uid=\"amp_sweep_param\", start=0.1, stop=0.99, count=num_amp_points\n",
    ")\n",
    "frequency_sweep = create_readout_freq_sweep(\n",
    "    \"q0\", start_freq, stop_freq, num_freq_points\n",
    ")\n",
    "\n",
    "exp_spec_amp = res_spectroscopy_pulsed_amp_sweep(\n",
    "    frequency_sweep, amplitude_sweep, num_averages, readout_pulse\n",
    ")\n",
    "\n",
    "exp_spec_amp.set_calibration(res_spec_calib(frequency_sweep, amplitude_sweep))\n",
    "exp_spec_amp.set_signal_map(res_spec_map(\"q0\"))"
   ]
  },
  {
   "cell_type": "code",
   "execution_count": null,
   "id": "4b8c24ce",
   "metadata": {},
   "outputs": [],
   "source": [
    "# compile the experiment on the open instrument session\n",
    "compiled_spec_amp = session.compile(exp_spec_amp)\n",
    "\n",
    "Path(\"Pulse_Sheets\").mkdir(parents=True, exist_ok=True)\n",
    "# generate a pulse sheet to inspect experiment before runtime\n",
    "show_pulse_sheet(\n",
    "    \"Pulse_Sheets/Spectroscopy_vs_Amplitude_Pulse_Sheet\", compiled_spec_amp\n",
    ")"
   ]
  },
  {
   "cell_type": "code",
   "execution_count": null,
   "id": "a2bf994d",
   "metadata": {},
   "outputs": [],
   "source": [
    "# run the compiled experiemnt\n",
    "spec_amp_results = session.run(compiled_spec_amp)\n",
    "timestamp = time.strftime(\"%Y%m%dT%H%M%S\")\n",
    "Path(\"Results\").mkdir(parents=True, exist_ok=True)\n",
    "session.save_results(f\"Results/{timestamp}_spec_amp_results.json\")\n",
    "print(f\"File saved as Results/{timestamp}_spec_amp_results.json\")"
   ]
  },
  {
   "cell_type": "markdown",
   "id": "e1e7e747",
   "metadata": {},
   "source": [
    "#### 3.3.4 Run and Evaluate Experiment"
   ]
  },
  {
   "cell_type": "code",
   "execution_count": null,
   "id": "9f28944a",
   "metadata": {},
   "outputs": [],
   "source": [
    "spec_freq = (\n",
    "    lo_settings[\"q0\"][\"shfqa_lo\"] + spec_amp_results.get_axis(\"res_spec_pulsed\")[1]\n",
    ")\n",
    "amp = spec_amp_results.get_axis(\"res_spec_pulsed\")[0]\n",
    "data = spec_amp_results.get_data(\"res_spec_pulsed\")"
   ]
  },
  {
   "cell_type": "code",
   "execution_count": null,
   "id": "9020a84f",
   "metadata": {},
   "outputs": [],
   "source": [
    "# plot the results\n",
    "for key in spec_amp_results.acquired_results.keys():\n",
    "    lo_freq = spec_amp_results.device_calibration.calibration_items[\n",
    "        \"/logical_signal_groups/q0/measure_line\"\n",
    "    ].local_oscillator.frequency\n",
    "    spec_freq = lo_freq + spec_amp_results.get_axis(f\"{key}\")[1]\n",
    "    amp = spec_amp_results.get_axis(f\"{key}\")[0]\n",
    "    data = spec_amp_results.get_data(f\"{key}\")\n",
    "\n",
    "    X, Y = np.meshgrid(spec_freq, amp)\n",
    "    fig, ax = plt.subplots(nrows=1, ncols=2, constrained_layout=True)\n",
    "    CS = ax[0].contourf(X / 1e9, Y, np.abs(data), levels=100, cmap=\"magma\")\n",
    "    ax[0].set_title(\"Readout amplitude\")\n",
    "    ax[0].set_xlabel(\"Frequency [GHz]\")\n",
    "    ax[0].set_ylabel(\"Normalized amplitude\")\n",
    "    fig.colorbar(CS)\n",
    "\n",
    "    max_value = (\n",
    "        max(\n",
    "            int(np.abs(np.min(np.unwrap(np.angle(data, deg=True))))),\n",
    "            int(np.abs(np.max(np.unwrap(np.angle(data, deg=True))))),\n",
    "        )\n",
    "        + 1\n",
    "    )\n",
    "\n",
    "    cs2_levels = np.linspace(-max_value, max_value, 2 * (max_value) + 1)\n",
    "\n",
    "    CS2 = ax[1].contourf(\n",
    "        X / 1e9,\n",
    "        Y,\n",
    "        np.unwrap(np.angle(data, deg=True)),\n",
    "        levels=cs2_levels,\n",
    "        cmap=\"twilight_shifted\",\n",
    "    )\n",
    "    ax[1].set_title(\"Phase\")\n",
    "    ax[1].set_xlabel(\"Frequency [GHz]\")\n",
    "    ax[1].set_ylabel(\"Normalized amplitude\")\n",
    "    fig.colorbar(CS2)"
   ]
  },
  {
   "attachments": {},
   "cell_type": "markdown",
   "id": "aeaa0821",
   "metadata": {},
   "source": [
    "### 3.4 Propagation Delay\n",
    "Sweep the delay of the integration, and then find the maximum result\n",
    "#### 3.4.1 Additional experimental parameters"
   ]
  },
  {
   "cell_type": "code",
   "execution_count": null,
   "id": "ba553236",
   "metadata": {},
   "outputs": [],
   "source": [
    "# define delay sweep\n",
    "delay_sweep = LinearSweepParameter(\n",
    "    uid=\"delay_sweep_param\", start=0, stop=1.0e-6, count=21\n",
    ")\n",
    "\n",
    "# define number of averages\n",
    "# used for 2^num_averages, maximum: num_averages = 17\n",
    "num_averages = 4"
   ]
  },
  {
   "cell_type": "markdown",
   "id": "2610be3a",
   "metadata": {},
   "source": [
    "#### 3.4.2 Experiment Definition"
   ]
  },
  {
   "cell_type": "code",
   "execution_count": null,
   "id": "b73db918",
   "metadata": {},
   "outputs": [],
   "source": [
    "# function that defines a resonator spectroscopy experiment, and takes the frequency sweep as a parameter\n",
    "\n",
    "\n",
    "def propagation_delay(readout_pulse, delay_sweep):\n",
    "    # Create resonator spectroscopy experiment - uses only readout drive and signal acquisition\n",
    "    exp_prop_delay = Experiment(\n",
    "        uid=\"Propagation Delay Measurement\",\n",
    "        signals=[\n",
    "            ExperimentSignal(\"measure\"),\n",
    "            ExperimentSignal(\"acquire\"),\n",
    "        ],\n",
    "    )\n",
    "\n",
    "    ## define experimental sequence\n",
    "    # outer loop - vary drive frequency\n",
    "    with exp_prop_delay.sweep(uid=\"del_sweep\", parameter=delay_sweep):\n",
    "        with exp_prop_delay.acquire_loop_rt(\n",
    "            uid=\"shots\",\n",
    "            count=2**num_averages,\n",
    "            acquisition_type=AcquisitionType.INTEGRATION,\n",
    "        ):\n",
    "            # readout pulse and data acquisition\n",
    "            with exp_prop_delay.section(uid=\"spectroscopy\"):\n",
    "                # play resonator excitation pulse\n",
    "                exp_prop_delay.play(signal=\"measure\", pulse=readout_pulse)\n",
    "                # resonator signal readout\n",
    "                exp_prop_delay.acquire(\n",
    "                    signal=\"acquire\", handle=\"res_prop_delay\", kernel=readout_pulse\n",
    "                )\n",
    "            # relax time after readout - for qubit relaxation to groundstate and signal processing\n",
    "            with exp_prop_delay.section(uid=\"relax\", length=1e-6):\n",
    "                exp_prop_delay.reserve(signal=\"measure\")\n",
    "\n",
    "    cal = Calibration()\n",
    "    cal[\"measure\"] = SignalCalibration(\n",
    "        port_delay=delay_sweep,\n",
    "    )\n",
    "\n",
    "    return exp_prop_delay"
   ]
  },
  {
   "cell_type": "markdown",
   "id": "6d8e586d",
   "metadata": {},
   "source": [
    "#### 3.4.3 Apply Experiment Parameters and Compile"
   ]
  },
  {
   "cell_type": "code",
   "execution_count": null,
   "id": "90d00f1d",
   "metadata": {},
   "outputs": [],
   "source": [
    "short_readout_pulse = create_readout_pulse(\"q0\", length=600e-9, width=200e-9, sigma=0.2)\n",
    "\n",
    "device_setup.set_calibration(\n",
    "    define_calibration(device_setup, qubit_parameters, lo_settings)\n",
    ")\n",
    "\n",
    "exp_prop_delay = propagation_delay(short_readout_pulse, delay_sweep)\n",
    "\n",
    "exp_prop_delay.set_signal_map(res_spec_map(\"q0\"))"
   ]
  },
  {
   "cell_type": "code",
   "execution_count": null,
   "id": "0bb0a676",
   "metadata": {},
   "outputs": [],
   "source": [
    "# compile the experiment on the open instrument session\n",
    "compiled_prop_delay = session.compile(exp_prop_delay)\n",
    "\n",
    "Path(\"Pulse_Sheets\").mkdir(parents=True, exist_ok=True)\n",
    "# generate a pulse sheet to inspect experiment before runtime\n",
    "show_pulse_sheet(\"Pulse_Sheets/Propagation_delay\", compiled_prop_delay)"
   ]
  },
  {
   "cell_type": "markdown",
   "id": "6a649f52",
   "metadata": {},
   "source": [
    "#### 3.4.4 Run and Evaluate Experiment"
   ]
  },
  {
   "cell_type": "code",
   "execution_count": null,
   "id": "0dd67103",
   "metadata": {},
   "outputs": [],
   "source": [
    "# run the compiled experiemnt\n",
    "prop_delay_results = session.run(compiled_prop_delay)\n",
    "timestamp = time.strftime(\"%Y%m%dT%H%M%S\")\n",
    "Path(\"Results\").mkdir(parents=True, exist_ok=True)\n",
    "session.save_results(f\"Results/{timestamp}_prop_delay_results.json\")\n",
    "print(f\"File saved as Results/{timestamp}_prop_delay_results.json\")"
   ]
  },
  {
   "cell_type": "code",
   "execution_count": null,
   "id": "0e21c29d",
   "metadata": {},
   "outputs": [],
   "source": [
    "dat = prop_delay_results.get_data(\"res_prop_delay\")\n",
    "ax = prop_delay_results.get_axis(\"res_prop_delay\")[0]\n",
    "dat = prop_delay_results.get_data(\"res_prop_delay\")\n",
    "plt.plot(ax * 1e9, np.abs(dat))\n",
    "plt.xlabel(\"Integration delay [ns]\")\n",
    "plt.ylabel(\"Integration result\")\n",
    "plt.show()"
   ]
  },
  {
   "attachments": {},
   "cell_type": "markdown",
   "id": "8a682b18-6de8-4b17-97e9-08d92ac239bd",
   "metadata": {
    "tags": []
   },
   "source": [
    "### 3.5 Pulsed Qubit Spectroscopy\n",
    "\n",
    "Find the resonance frequency of the qubit by looking at the change in resonator transmission when sweeping the frequency of a qubit excitation pulse"
   ]
  },
  {
   "attachments": {},
   "cell_type": "markdown",
   "id": "49f08d92-4194-4937-aa15-209faef72b8f",
   "metadata": {
    "jp-MarkdownHeadingCollapsed": true,
    "tags": []
   },
   "source": [
    "#### 3.5.1 Additional Experimental Parameters\n",
    "\n",
    "Define the frequency scan and the pulses used in the experiment"
   ]
  },
  {
   "cell_type": "code",
   "execution_count": null,
   "id": "d267bdef",
   "metadata": {},
   "outputs": [],
   "source": [
    "def create_drive_freq_sweep(qubit, start_freq, stop_freq, num_points):\n",
    "    return LinearSweepParameter(\n",
    "        uid=f\"drive_freq_{qubit}\",\n",
    "        start=start_freq + qubit_parameters[qubit][\"freq\"],\n",
    "        stop=stop_freq + qubit_parameters[qubit][\"freq\"],\n",
    "        count=num_points,\n",
    "    )\n",
    "\n",
    "\n",
    "def create_drive_spec_pulse(qubit):\n",
    "    pulse = pulse_library.const(\n",
    "        uid=f\"drive_spec_pulse_{qubit}\",\n",
    "        length=qubit_parameters[qubit][\"qb_len_spec\"],\n",
    "        amplitude=qubit_parameters[qubit][\"qb_amp_spec\"],\n",
    "    )\n",
    "    return pulse"
   ]
  },
  {
   "cell_type": "code",
   "execution_count": null,
   "id": "26b38cd7",
   "metadata": {},
   "outputs": [],
   "source": [
    "# frequency range of spectroscopy scan - defined around expected qubit frequency as defined in qubit parameters\n",
    "qspec_range = 100e6\n",
    "# how many frequency points to measure\n",
    "qspec_num = 1001\n",
    "\n",
    "# define number of averages\n",
    "# used for 2^num_averages, maximum: num_averages = 17\n",
    "num_averages = 10"
   ]
  },
  {
   "attachments": {},
   "cell_type": "markdown",
   "id": "fefd645d-ceee-41d3-a86c-403d63d5b4f1",
   "metadata": {},
   "source": [
    "#### 3.5.2 Experiment Definition\n",
    "\n",
    "The frequency sweep of the drive line can now be done in real time (was: near time in older software releases)"
   ]
  },
  {
   "cell_type": "code",
   "execution_count": null,
   "id": "4106f823",
   "metadata": {},
   "outputs": [],
   "source": [
    "# function that returns a qubit spectroscopy experiment- accepts frequency sweep range as parameter\n",
    "\n",
    "\n",
    "def qubit_spectroscopy(freq_sweep, drive_pulse, readout_pulse):\n",
    "    # Create qubit spectroscopy Experiment - uses qubit drive, readout drive and data acquisition lines\n",
    "    exp_qspec = Experiment(\n",
    "        uid=\"Qubit Spectroscopy\",\n",
    "        signals=[\n",
    "            ExperimentSignal(\"drive\"),\n",
    "            ExperimentSignal(\"measure\"),\n",
    "            ExperimentSignal(\"acquire\"),\n",
    "        ],\n",
    "    )\n",
    "\n",
    "    # inner loop - real-time averaging - QA in integration mode\n",
    "    with exp_qspec.acquire_loop_rt(\n",
    "        uid=\"freq_shots\",\n",
    "        count=2**num_averages,\n",
    "        acquisition_type=AcquisitionType.INTEGRATION,\n",
    "    ):\n",
    "        with exp_qspec.sweep(uid=\"qfreq_sweep\", parameter=freq_sweep):\n",
    "            # qubit drive\n",
    "            with exp_qspec.section(uid=\"qubit_excitation\"):\n",
    "                # exp_qspec.play(signal=\"drive\", pulse=drive_pulse)\n",
    "                exp_qspec.play(signal=\"drive\", pulse=drive_pulse)\n",
    "            with exp_qspec.section(\n",
    "                uid=\"readout_section\", play_after=\"qubit_excitation\"\n",
    "            ):\n",
    "                # play readout pulse on measure line\n",
    "                exp_qspec.play(signal=\"measure\", pulse=readout_pulse)\n",
    "                # trigger signal data acquisition\n",
    "                exp_qspec.acquire(\n",
    "                    signal=\"acquire\",\n",
    "                    handle=\"qb_spec\",\n",
    "                    kernel=readout_pulse,\n",
    "                )\n",
    "            # relax time after readout - for qubit relaxation to groundstate and signal processing\n",
    "            with exp_qspec.section(uid=\"relax\", length=1e-6):\n",
    "                exp_qspec.reserve(signal=\"measure\")\n",
    "\n",
    "    return exp_qspec"
   ]
  },
  {
   "cell_type": "code",
   "execution_count": null,
   "id": "67230743",
   "metadata": {},
   "outputs": [],
   "source": [
    "freq_sweep_q0 = create_drive_freq_sweep(\"q0\", -qspec_range, qspec_range, qspec_num)\n",
    "freq_sweep_q1 = create_drive_freq_sweep(\"q1\", -qspec_range, qspec_range, qspec_num)\n",
    "# experiment signal calibration for qubit 0\n",
    "exp_calibration_q0 = Calibration()\n",
    "exp_calibration_q0[\"drive\"] = SignalCalibration(\n",
    "    oscillator=Oscillator(\n",
    "        frequency=freq_sweep_q0,\n",
    "        modulation_type=ModulationType.HARDWARE,\n",
    "    ),\n",
    ")\n",
    "\n",
    "\n",
    "# signal map for qubit 0\n",
    "def signal_map_default(qubit):\n",
    "    signal_map = {\n",
    "        \"drive\": device_setup.logical_signal_groups[f\"{qubit}\"].logical_signals[\n",
    "            \"drive_line\"\n",
    "        ],\n",
    "        \"measure\": device_setup.logical_signal_groups[f\"{qubit}\"].logical_signals[\n",
    "            \"measure_line\"\n",
    "        ],\n",
    "        \"acquire\": device_setup.logical_signal_groups[f\"{qubit}\"].logical_signals[\n",
    "            \"acquire_line\"\n",
    "        ],\n",
    "    }\n",
    "    return signal_map"
   ]
  },
  {
   "attachments": {},
   "cell_type": "markdown",
   "id": "46bf613c-2f03-4a02-8bc0-1201b845468a",
   "metadata": {},
   "source": [
    "#### 3.5.3 Run and Evaluate Experiment for Both Qubits\n",
    "\n",
    "Runs the experiment and evaluates the data returned by the measurement"
   ]
  },
  {
   "cell_type": "code",
   "execution_count": null,
   "id": "3e6493a3",
   "metadata": {},
   "outputs": [],
   "source": [
    "# define experiment with frequency sweep for qubit 0\n",
    "drive_pulse = create_drive_spec_pulse(\"q0\")\n",
    "\n",
    "readout_pulse = create_readout_pulse(\"q0\", length=1000e-9, width=900e-9, sigma=0.2)\n",
    "\n",
    "device_setup.set_calibration(\n",
    "    define_calibration(device_setup, qubit_parameters, lo_settings)\n",
    ")\n",
    "\n",
    "exp_qspec = qubit_spectroscopy(freq_sweep_q0, drive_pulse, readout_pulse)\n",
    "\n",
    "# apply calibration and signal map for qubit 0\n",
    "exp_qspec.set_calibration(exp_calibration_q0)\n",
    "exp_qspec.set_signal_map(signal_map_default(\"q0\"))"
   ]
  },
  {
   "cell_type": "code",
   "execution_count": null,
   "id": "34ce0857",
   "metadata": {},
   "outputs": [],
   "source": [
    "# compile the experiment on the open instrument session\n",
    "compiled_qspec = session.compile(exp_qspec)\n",
    "\n",
    "Path(\"Pulse_Sheets\").mkdir(parents=True, exist_ok=True)\n",
    "# generate a pulse sheet to inspect experiment before runtime\n",
    "show_pulse_sheet(\"Pulse_Sheets/Qubit_Spectroscopy\", compiled_qspec)\n",
    "\n",
    "plot_simulation(compiled_qspec, start_time=0, length=100e-6)"
   ]
  },
  {
   "cell_type": "code",
   "execution_count": null,
   "id": "50921ab2",
   "metadata": {},
   "outputs": [],
   "source": [
    "# run the experiment on qubit 0\n",
    "qspec_results = session.run()"
   ]
  },
  {
   "cell_type": "code",
   "execution_count": null,
   "id": "b613b85c",
   "metadata": {},
   "outputs": [],
   "source": [
    "# get measurement data returned by the instruments\n",
    "qspec_res = qspec_results.get_data(\"qb_spec\")\n",
    "qspec_freq = qspec_results.get_axis(\"qb_spec\")[0] + lo_settings[\"q0\"][\"shfsg_lo\"]\n",
    "\n",
    "if emulate:\n",
    "    # create some dummy data if running in emulation mode\n",
    "    qspec_res = lorentzian(\n",
    "        qspec_freq,\n",
    "        5e6,\n",
    "        qubit_parameters[\"q0\"][\"freq\"] * (0.995 + 0.01 * np.random.rand(1)[0])\n",
    "        + lo_settings[\"q0\"][\"shfsg_lo\"],\n",
    "        -2e6,\n",
    "        1,\n",
    "    ) + 0.1 * np.random.rand(len(qspec_freq))\n",
    "\n",
    "\n",
    "# plot measurement data\n",
    "fig = plt.figure()\n",
    "plt.plot(qspec_freq / 1e9, abs(qspec_res), \".k\")\n",
    "plt.ylabel(\"A (a.u.)\")\n",
    "plt.xlabel(\"Frequency (GHz)\")\n",
    "\n",
    "plt.show()"
   ]
  },
  {
   "attachments": {},
   "cell_type": "markdown",
   "id": "7ef1f4a1",
   "metadata": {},
   "source": [
    "Do fitting and frequency update now if not in emulation mode:"
   ]
  },
  {
   "cell_type": "code",
   "execution_count": null,
   "id": "bb43baf4",
   "metadata": {},
   "outputs": [],
   "source": [
    "# update qubit parameters\n",
    "if not emulate:\n",
    "    # increase number of plot points for smooth plotting of fit reults\n",
    "    freq_plot = np.linspace(qspec_freq[0], qspec_freq[-1], 5 * len(qspec_freq))\n",
    "\n",
    "    # fit measurement data - here assuming an inverted Lorentzian response\n",
    "    popt, pcov = lorentzian.fit(\n",
    "        qspec_freq,\n",
    "        abs(qspec_res),\n",
    "        5e6,\n",
    "        qubit_parameters[\"q0\"][\"freq\"] + lo_settings[\"q0\"][\"shfsg_lo\"],\n",
    "        -1e6,\n",
    "        1,\n",
    "        plot=False,\n",
    "        bounds=[[0, 4e9, -1e8, 0], [10e6, 6e9, 0, 2]],\n",
    "    )\n",
    "    print(f\"Fitted parameters: {popt}\")\n",
    "\n",
    "    # plot fit results together with measurement data\n",
    "    plt.plot(freq_plot / 1e9, lorentzian(freq_plot, *popt), \"-r\")\n",
    "\n",
    "    qubit_parameters[\"q0\"][\"freq\"] = popt[1] - lo_settings[\"q0\"][\"shfsg_lo\"]\n",
    "    qubit_parameters[\"q0\"][\"freq\"]"
   ]
  },
  {
   "attachments": {},
   "cell_type": "markdown",
   "id": "023ba502-7f83-49b2-a208-6207d54793f4",
   "metadata": {
    "tags": []
   },
   "source": [
    "### 3.6 Amplitude Rabi Experiment\n",
    "\n",
    "Sweep the pulse amplitude of a qubit drive pulse to determine the ideal amplitudes for specific qubit rotation angles"
   ]
  },
  {
   "attachments": {},
   "cell_type": "markdown",
   "id": "685c68e5-effa-4e0f-a7ab-500b1377c2fc",
   "metadata": {
    "tags": []
   },
   "source": [
    "#### 3.6.1 Additional Experimental Parameters\n",
    "\n",
    "Define the amplitude sweep range and qubit excitation pulse"
   ]
  },
  {
   "cell_type": "code",
   "execution_count": null,
   "id": "0dd029de",
   "metadata": {},
   "outputs": [],
   "source": [
    "# range of pulse amplitude scan\n",
    "\n",
    "\n",
    "def create_rabi_amp_sweep(qubit, amp_num, uid=\"rabi_amp\"):\n",
    "    amp_min = 0\n",
    "    amp_max = min([qubit_parameters[qubit][\"pi_amp\"] * 2.2, 1.0])\n",
    "    return LinearSweepParameter(uid=uid, start=amp_min, stop=amp_max, count=amp_num)\n",
    "\n",
    "\n",
    "# define number of averages\n",
    "# used for 2^num_averages, maximum: num_averages = 17\n",
    "num_averages = 10\n",
    "\n",
    "\n",
    "def create_rabi_drive_pulse(qubit):\n",
    "    return pulse_library.gaussian(\n",
    "        uid=f\"gaussian_drive_q{qubit}\",\n",
    "        length=qubit_parameters[qubit][\"qb_len\"],\n",
    "        amplitude=1,\n",
    "    )"
   ]
  },
  {
   "cell_type": "code",
   "execution_count": null,
   "id": "b95e5f78",
   "metadata": {},
   "outputs": [],
   "source": [
    "# qubit drive frequency - defined in calibration on device setup as baseline reference\n",
    "lsg[\"q0\"][\"drive_line\"].oscillator.frequency = qubit_parameters[\"q0\"][\"freq\"]\n",
    "# set oscillator type to hardware to ensure optimal use of the instrument functionality\n",
    "lsg[\"q0\"][\"drive_line\"].oscillator.modulation_type = ModulationType.HARDWARE"
   ]
  },
  {
   "attachments": {},
   "cell_type": "markdown",
   "id": "bb70a8d7-22df-4396-a167-d1ac4a5277c1",
   "metadata": {
    "tags": []
   },
   "source": [
    "#### 3.6.2 Experiment Definition\n",
    "\n",
    "Define the experimental pulse and readout sequence - here without any explicit qubit reference\n",
    "\n",
    "Explicit qubit reference is then given through different experimental calibration and signal maps"
   ]
  },
  {
   "cell_type": "code",
   "execution_count": null,
   "id": "9bab6736",
   "metadata": {},
   "outputs": [],
   "source": [
    "# function that returns an amplitude Rabi experiment\n",
    "\n",
    "\n",
    "def amplitude_rabi(drive_pulse, readout_pulse, amplitude_sweep):\n",
    "    exp_rabi = Experiment(\n",
    "        uid=\"Amplitude Rabi\",\n",
    "        signals=[\n",
    "            ExperimentSignal(\"drive\"),\n",
    "            ExperimentSignal(\"measure\"),\n",
    "            ExperimentSignal(\"acquire\"),\n",
    "        ],\n",
    "    )\n",
    "\n",
    "    ## define Rabi experiment pulse sequence\n",
    "    # outer loop - real-time, cyclic averaging\n",
    "    with exp_rabi.acquire_loop_rt(\n",
    "        uid=\"rabi_shots\",\n",
    "        count=2**num_averages,\n",
    "        averaging_mode=AveragingMode.CYCLIC,\n",
    "        acquisition_type=AcquisitionType.INTEGRATION,\n",
    "    ):\n",
    "        # inner loop - real time sweep of Rabi ampitudes\n",
    "        with exp_rabi.sweep(\n",
    "            uid=\"rabi_sweep\",\n",
    "            parameter=amplitude_sweep,\n",
    "            alignment=SectionAlignment.RIGHT,\n",
    "        ):\n",
    "            # play qubit excitation pulse - pulse amplitude is swept\n",
    "            with exp_rabi.section(uid=\"qubit_excitation\"):\n",
    "                exp_rabi.play(\n",
    "                    signal=\"drive\", pulse=drive_pulse, amplitude=amplitude_sweep\n",
    "                )\n",
    "            # readout pulse and data acquisition\n",
    "            with exp_rabi.section(uid=\"readout_section\", play_after=\"qubit_excitation\"):\n",
    "                # play readout pulse on measure line\n",
    "                exp_rabi.play(signal=\"measure\", pulse=readout_pulse)\n",
    "                # trigger signal data acquisition\n",
    "                exp_rabi.acquire(\n",
    "                    signal=\"acquire\",\n",
    "                    handle=\"amp_rabi\",\n",
    "                    kernel=readout_pulse,\n",
    "                )\n",
    "            # relax time after readout - for qubit relaxation to groundstate and signal processing\n",
    "            with exp_rabi.section(uid=\"relax\", length=1e-6):\n",
    "                exp_rabi.reserve(signal=\"measure\")\n",
    "    return exp_rabi"
   ]
  },
  {
   "attachments": {},
   "cell_type": "markdown",
   "id": "1dc2ff96-f8ff-4de5-b62a-872108c7814f",
   "metadata": {
    "tags": []
   },
   "source": [
    "#### 3.6.3 Set Experiment Parameters and Compile"
   ]
  },
  {
   "cell_type": "code",
   "execution_count": null,
   "id": "afcf9b66",
   "metadata": {},
   "outputs": [],
   "source": [
    "# set signal map for qubit 0 - no experimental calibration necessary, calibration taken from DeviceSetup, i.e. baseline\n",
    "device_setup.set_calibration(\n",
    "    define_calibration(device_setup, qubit_parameters, lo_settings)\n",
    ")\n",
    "\n",
    "drive_pulse = create_rabi_drive_pulse(\"q0\")\n",
    "\n",
    "exp_rabi = amplitude_rabi(\n",
    "    drive_pulse, readout_pulse, create_rabi_amp_sweep(qubit=\"q0\", amp_num=61)\n",
    ")\n",
    "\n",
    "exp_rabi.set_signal_map(signal_map_default(\"q0\"))\n",
    "\n",
    "# compile the experiment on the open instrument session\n",
    "compiled_rabi = session.compile(exp_rabi)"
   ]
  },
  {
   "attachments": {},
   "cell_type": "markdown",
   "id": "303ac382",
   "metadata": {},
   "source": [
    "#### 3.6.4 Show Pulse Sheet"
   ]
  },
  {
   "cell_type": "code",
   "execution_count": null,
   "id": "e29a812d",
   "metadata": {},
   "outputs": [],
   "source": [
    "show_pulse_sheet(\"Pulse_Sheets/Amplitude_Rabi\", compiled_rabi)"
   ]
  },
  {
   "attachments": {},
   "cell_type": "markdown",
   "id": "35e3b45e",
   "metadata": {},
   "source": [
    "#### 3.6.5 Plot Simulated Outputs"
   ]
  },
  {
   "cell_type": "code",
   "execution_count": null,
   "id": "8a0efaa1",
   "metadata": {},
   "outputs": [],
   "source": [
    "# Simulate experiment\n",
    "plot_simulation(compiled_rabi, start_time=0, length=100e-6)"
   ]
  },
  {
   "attachments": {},
   "cell_type": "markdown",
   "id": "145af2b3",
   "metadata": {},
   "source": [
    "#### 3.6.6 Run, Save, and Plot Results\n",
    "\n",
    "Finally, you'll run the experiment, save, and plot the results."
   ]
  },
  {
   "cell_type": "code",
   "execution_count": null,
   "id": "ea1613e1",
   "metadata": {},
   "outputs": [],
   "source": [
    "# run the compiled experiemnt\n",
    "rabi_results = session.run(compiled_rabi)\n",
    "timestamp = time.strftime(\"%Y%m%dT%H%M%S\")\n",
    "Path(\"Results\").mkdir(parents=True, exist_ok=True)\n",
    "session.save_results(f\"Results/{timestamp}_rabi_results.json\")\n",
    "print(f\"File saved as Results/{timestamp}_rabi_results.json\")"
   ]
  },
  {
   "cell_type": "code",
   "execution_count": null,
   "id": "f4d8a131",
   "metadata": {},
   "outputs": [],
   "source": [
    "# get measurement data returned by the instruments\n",
    "rabi_res = rabi_results.get_data(\"amp_rabi\")\n",
    "\n",
    "# define amplitude axis from qubit parameters\n",
    "rabi_amp = rabi_results.get_axis(\"amp_rabi\")[0]\n",
    "\n",
    "if emulate:\n",
    "    # create some dummy data if running in emulation mode\n",
    "    rabi_res = oscillatory(rabi_amp, 10, 0, 1, 1.2) + 0.2 * np.random.rand(\n",
    "        len(rabi_amp)\n",
    "    )"
   ]
  },
  {
   "cell_type": "code",
   "execution_count": null,
   "id": "ecfb3eaa",
   "metadata": {},
   "outputs": [],
   "source": [
    "# plot measurement data\n",
    "fig = plt.figure()\n",
    "plt.plot(rabi_amp, rabi_res, \".k\")\n",
    "plt.ylabel(\"A (a.u.)\")\n",
    "plt.xlabel(\"amplitude (a.u.)\")\n",
    "\n",
    "# increase number of plot points for smooth plotting of fit results\n",
    "amp_plot = np.linspace(rabi_amp[0], rabi_amp[-1], 5 * len(rabi_amp))\n",
    "\n",
    "# fit measurement results - assume sinusoidal oscillation with drive amplitude\n",
    "popt, pcov = oscillatory.fit(rabi_amp, rabi_res, 10, 0, 1, 1.2, plot=False)\n",
    "print(f\"Fitted parameters: {popt}\")\n",
    "\n",
    "# plot fit results together with measurement data\n",
    "plt.plot(amp_plot, oscillatory(amp_plot, *popt), \"-r\")"
   ]
  },
  {
   "attachments": {},
   "cell_type": "markdown",
   "id": "71848b75",
   "metadata": {},
   "source": [
    "### 3.7 Ramsey Experiment\n",
    "The Ramsey experiment is different from the experiments above as the length of the drive section changes. Using a right-aligned sweep section and the automatic repetition time makes sure that the experiment is run as efficiently as possible on the Zurich Instruments hardware."
   ]
  },
  {
   "attachments": {},
   "cell_type": "markdown",
   "id": "81e8012b",
   "metadata": {},
   "source": [
    "#### 3.7.1 Experiment Parameters"
   ]
  },
  {
   "cell_type": "code",
   "execution_count": null,
   "id": "a004a412",
   "metadata": {},
   "outputs": [],
   "source": [
    "# define number of averages\n",
    "# used for 2^num_averages, maximum: num_averages = 17\n",
    "num_averages = 4\n",
    "\n",
    "# define delay sweep\n",
    "n_steps = 201\n",
    "start_delay = 0e-6\n",
    "stop_delay = 15e-6\n",
    "\n",
    "\n",
    "def create_delay_sweep(\n",
    "    start=start_delay, stop=stop_delay, count=n_steps, axis_name=\"Time [s]\"\n",
    "):\n",
    "    time_sweep = LinearSweepParameter(\n",
    "        uid=\"time_sweep_param\", start=start, stop=stop, count=count, axis_name=axis_name\n",
    "    )\n",
    "    return time_sweep\n",
    "\n",
    "\n",
    "# define ramsey drive pulse\n",
    "def create_ramsey_drive_pulse(qubit):\n",
    "    return pulse_library.gaussian(\n",
    "        uid=f\"gaussian_drive_q{qubit}\",\n",
    "        length=qubit_parameters[qubit][\"qb_len\"],\n",
    "        amplitude=0.5,\n",
    "    )"
   ]
  },
  {
   "attachments": {},
   "cell_type": "markdown",
   "id": "7fa365d3",
   "metadata": {},
   "source": [
    "#### 3.7.2 Experiment Definition"
   ]
  },
  {
   "cell_type": "code",
   "execution_count": null,
   "id": "f8d1e77b",
   "metadata": {},
   "outputs": [],
   "source": [
    "# function that returns an amplitude Rabi experiment\n",
    "\n",
    "\n",
    "def ramsey(drive_pulse, readout_pulse, time_sweep):\n",
    "    exp_ramsey = Experiment(\n",
    "        uid=\"Ramsey Experiment\",\n",
    "        signals=[\n",
    "            ExperimentSignal(\"drive\"),\n",
    "            ExperimentSignal(\"measure\"),\n",
    "            ExperimentSignal(\"acquire\"),\n",
    "        ],\n",
    "    )\n",
    "\n",
    "    ## define Rabi experiment pulse sequence\n",
    "    # outer loop - real-time, cyclic averaging\n",
    "    with exp_ramsey.acquire_loop_rt(\n",
    "        uid=\"ramsey_shots\",\n",
    "        count=2**num_averages,\n",
    "        averaging_mode=AveragingMode.CYCLIC,\n",
    "        acquisition_type=AcquisitionType.INTEGRATION,\n",
    "        repetition_mode=RepetitionMode.AUTO,\n",
    "    ):\n",
    "        # inner loop - real time sweep of Ramsey time delays\n",
    "        with exp_ramsey.sweep(\n",
    "            uid=\"ramsey_sweep\", parameter=time_sweep, alignment=SectionAlignment.RIGHT\n",
    "        ):\n",
    "            # play qubit excitation pulse - pulse amplitude is swept\n",
    "            with exp_ramsey.section(\n",
    "                uid=\"qubit_excitation\", alignment=SectionAlignment.RIGHT\n",
    "            ):\n",
    "                exp_ramsey.play(signal=\"drive\", pulse=drive_pulse)\n",
    "                exp_ramsey.delay(signal=\"drive\", time=time_sweep)\n",
    "                exp_ramsey.play(signal=\"drive\", pulse=drive_pulse)\n",
    "            # readout pulse and data acquisition\n",
    "            with exp_ramsey.section(\n",
    "                uid=\"readout_section\", play_after=\"qubit_excitation\"\n",
    "            ):\n",
    "                # play readout pulse on measure line\n",
    "                exp_ramsey.play(signal=\"measure\", pulse=readout_pulse)\n",
    "                # trigger signal data acquisition\n",
    "                exp_ramsey.acquire(\n",
    "                    signal=\"acquire\",\n",
    "                    handle=\"ramsey\",\n",
    "                    kernel=readout_pulse,\n",
    "                )\n",
    "            # relax time after readout - for qubit relaxation to groundstate and signal processing\n",
    "            with exp_ramsey.section(uid=\"relax\", length=1e-6):\n",
    "                exp_ramsey.reserve(signal=\"measure\")\n",
    "    return exp_ramsey"
   ]
  },
  {
   "attachments": {},
   "cell_type": "markdown",
   "id": "f9e51b3d",
   "metadata": {},
   "source": [
    "#### 3.7.3 Create Experiment and Signal Map"
   ]
  },
  {
   "cell_type": "code",
   "execution_count": null,
   "id": "028893ec",
   "metadata": {},
   "outputs": [],
   "source": [
    "# define pulses and create experiment\n",
    "readout_pulse = create_readout_pulse(\"q0\")\n",
    "drive_pulse = create_ramsey_drive_pulse(\"q0\")\n",
    "time_sweep = create_delay_sweep(start=start_delay, stop=stop_delay, count=n_steps)\n",
    "\n",
    "\n",
    "ramsey_exp = ramsey(\n",
    "    drive_pulse=drive_pulse, readout_pulse=readout_pulse, time_sweep=time_sweep\n",
    ")\n",
    "\n",
    "ramsey_exp.set_signal_map(signal_map_default(\"q0\"))\n",
    "\n",
    "compiled_ramsey = session.compile(ramsey_exp)"
   ]
  },
  {
   "attachments": {},
   "cell_type": "markdown",
   "id": "9e091bd2",
   "metadata": {},
   "source": [
    "#### 3.7.4 Show Pulse Sheet"
   ]
  },
  {
   "cell_type": "code",
   "execution_count": null,
   "id": "806ba1cd",
   "metadata": {},
   "outputs": [],
   "source": [
    "show_pulse_sheet(\"Pulse_Sheets/Ramsey\", compiled_ramsey)"
   ]
  },
  {
   "attachments": {},
   "cell_type": "markdown",
   "id": "2e8bd3b3",
   "metadata": {},
   "source": [
    "#### 3.7.5 Plot Simulated Outputs"
   ]
  },
  {
   "cell_type": "code",
   "execution_count": null,
   "id": "a533e213",
   "metadata": {},
   "outputs": [],
   "source": [
    "plot_simulation(compiled_ramsey, start_time=0, length=100e-6, plot_width=10)"
   ]
  },
  {
   "attachments": {},
   "cell_type": "markdown",
   "id": "ce23d659",
   "metadata": {},
   "source": [
    "#### 3.7.6 Run, Save, and Plot Results"
   ]
  },
  {
   "cell_type": "code",
   "execution_count": null,
   "id": "5fb25a20",
   "metadata": {},
   "outputs": [],
   "source": [
    "# run the compiled experiemnt\n",
    "ramsey_results = session.run()\n",
    "timestamp = time.strftime(\"%Y%m%dT%H%M%S\")\n",
    "Path(\"Results\").mkdir(parents=True, exist_ok=True)\n",
    "session.save_results(f\"Results/{timestamp}_ramsey_results.json\")\n",
    "print(f\"File saved as Results/{timestamp}_ramsey_results.json\")"
   ]
  },
  {
   "cell_type": "code",
   "execution_count": null,
   "id": "0c2bf8eb",
   "metadata": {},
   "outputs": [],
   "source": [
    "# get measurement data returned by the instruments\n",
    "ramsey_res = ramsey_results.get_data(\"ramsey\")\n",
    "\n",
    "# define time axis from qubit parameters\n",
    "ramsey_delay = ramsey_results.get_axis(\"ramsey\")[0]\n",
    "\n",
    "if emulate:\n",
    "    # create dummy data if running in emulation mode\n",
    "    ramsey_res = oscillatory_decay(\n",
    "        ramsey_delay, 1e6, 0, 1 / 10e-6, amplitude=0.5, offset=0.5\n",
    "    ) + 0.12 * np.random.rand(len(ramsey_delay))"
   ]
  },
  {
   "cell_type": "code",
   "execution_count": null,
   "id": "d34a2016",
   "metadata": {},
   "outputs": [],
   "source": [
    "# plot measurement results\n",
    "fig = plt.figure()\n",
    "plt.plot(ramsey_delay, ramsey_res, \".k\")\n",
    "plt.ylabel(\"A (a.u.)\")\n",
    "plt.xlabel(\"delay (s)\")\n",
    "\n",
    "# increase number of plot points for smooth plotting of fit results\n",
    "delay_plot = np.linspace(ramsey_delay[0], ramsey_delay[-1], 5 * len(ramsey_delay))\n",
    "\n",
    "## fit measurement data to decaying sinusoidal oscillatio\n",
    "popt, pcov = oscillatory_decay.fit(\n",
    "    ramsey_delay,\n",
    "    ramsey_res,\n",
    "    1e6,\n",
    "    0,\n",
    "    2 / 1 / 10e-6,\n",
    "    0.5,\n",
    "    0.5,\n",
    "    plot=False,\n",
    "    bounds=[\n",
    "        [0.01e6, -np.pi / 2, 0.1 / 1 / 10e-6, 0.2, 0.2],\n",
    "        [15e6, np.pi / 2, 10 / 1 / 10e-6, 2, 2],\n",
    "    ],\n",
    ")\n",
    "print(f\"Fitted parameters: {popt}\")\n",
    "\n",
    "# plot fit results together with experimental data\n",
    "plt.plot(delay_plot, oscillatory_decay(delay_plot, *popt), \"-r\")"
   ]
  }
 ],
 "metadata": {
  "hide_input": false,
  "kernelspec": {
   "display_name": "2.10",
   "language": "python",
   "name": "python3"
  },
  "language_info": {
   "codemirror_mode": {
    "name": "ipython",
    "version": 3
   },
   "file_extension": ".py",
   "mimetype": "text/x-python",
   "name": "python",
   "nbconvert_exporter": "python",
   "pygments_lexer": "ipython3",
   "version": "3.10.10"
  },
  "toc": {
   "base_numbering": 1,
   "nav_menu": {},
   "number_sections": true,
   "sideBar": true,
   "skip_h1_title": false,
   "title_cell": "Table of Contents",
   "title_sidebar": "Contents",
   "toc_cell": false,
   "toc_position": {
    "height": "calc(100% - 180px)",
    "left": "10px",
    "top": "150px",
    "width": "409.6px"
   },
   "toc_section_display": true,
   "toc_window_display": true
  },
  "varInspector": {
   "cols": {
    "lenName": 16,
    "lenType": 16,
    "lenVar": 40
   },
   "kernels_config": {
    "python": {
     "delete_cmd_postfix": "",
     "delete_cmd_prefix": "del ",
     "library": "var_list.py",
     "varRefreshCmd": "print(var_dic_list())"
    },
    "r": {
     "delete_cmd_postfix": ") ",
     "delete_cmd_prefix": "rm(",
     "library": "var_list.r",
     "varRefreshCmd": "cat(var_dic_list()) "
    }
   },
   "types_to_exclude": [
    "module",
    "function",
    "builtin_function_or_method",
    "instance",
    "_Feature"
   ],
   "window_display": false
  }
 },
 "nbformat": 4,
 "nbformat_minor": 5
}
