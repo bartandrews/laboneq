{
 "cells": [
  {
   "attachments": {},
   "cell_type": "markdown",
   "id": "fe2d00d7-c88e-4c5c-a2ca-8d6bc78ebe3e",
   "metadata": {
    "tags": []
   },
   "source": [
    "# DC-Biased 2D Resonator and Qubit Spectroscopy with SHF Instruments\n",
    "\n",
    "In this notebook we demonstrate resonator and qubit spectroscopy experiments showing how an external DC source can be incoportated using the `call` function with the LabOne Q software. \n",
    "\n",
    "Before starting the experiments, we define a set of initial qubit parameters, as might be known from fabrication. \n",
    "\n",
    "These parameters can then be used to update the baseline calibration used in the experiments."
   ]
  },
  {
   "attachments": {},
   "cell_type": "markdown",
   "id": "4d4e7d0b-b53a-40e4-831c-236ed9d97c42",
   "metadata": {},
   "source": [
    "## 0. General Imports and Definitions"
   ]
  },
  {
   "attachments": {},
   "cell_type": "markdown",
   "id": "f3ecf2ff-f304-472a-b6d2-a50792a39a0d",
   "metadata": {
    "tags": []
   },
   "source": [
    "### 0.1 Python Imports "
   ]
  },
  {
   "cell_type": "code",
   "execution_count": null,
   "id": "f383ab20",
   "metadata": {},
   "outputs": [],
   "source": [
    "from pathlib import Path\n",
    "\n",
    "# LabOne Q:\n",
    "from laboneq.simple import *\n",
    "\n",
    "from laboneq.contrib.example_helpers.plotting.plot_helpers import (\n",
    "    plot_simulation,\n",
    "    plot_results,\n",
    ")"
   ]
  },
  {
   "attachments": {},
   "cell_type": "markdown",
   "id": "0d9141f7-3fc4-4e0e-b553-59ea490e84cc",
   "metadata": {
    "tags": []
   },
   "source": [
    "## 1. Define the Instrument Setup and Required Experimental Parameters"
   ]
  },
  {
   "attachments": {},
   "cell_type": "markdown",
   "id": "2a4a933f",
   "metadata": {},
   "source": [
    "### 1.1 Create device setup\n",
    "\n",
    "Create the device setup from the descriptor, and apply some convenient mapping to instruments and logical signals."
   ]
  },
  {
   "cell_type": "code",
   "execution_count": null,
   "id": "57b1fb78",
   "metadata": {},
   "outputs": [],
   "source": [
    "descriptor = \"\"\"\\\n",
    "instruments:\n",
    "  SHFQC:\n",
    "    - address: dev12XX0\n",
    "      uid: device_shfqc\n",
    "connections:\n",
    "  device_shfqc:\n",
    "    - iq_signal: q0/drive_line\n",
    "      ports: [SGCHANNELS/0/OUTPUT]\n",
    "    - iq_signal: q1/drive_line\n",
    "      ports: [SGCHANNELS/1/OUTPUT]\n",
    "    - iq_signal: q2/drive_line\n",
    "      ports: [SGCHANNELS/2/OUTPUT]\n",
    "    - iq_signal: q0/measure_line\n",
    "      ports: [QACHANNELS/0/OUTPUT]\n",
    "    - acquire_signal: q0/acquire_line\n",
    "      ports: [QACHANNELS/0/INPUT]\n",
    "    - iq_signal: q1/measure_line\n",
    "      ports: [QACHANNELS/0/OUTPUT]\n",
    "    - acquire_signal: q1/acquire_line\n",
    "      ports: [QACHANNELS/0/INPUT]\n",
    "    - iq_signal: q2/measure_line\n",
    "      ports: [QACHANNELS/0/OUTPUT]\n",
    "    - acquire_signal: q2/acquire_line\n",
    "      ports: [QACHANNELS/0/INPUT]\n",
    "\"\"\""
   ]
  },
  {
   "cell_type": "code",
   "execution_count": null,
   "id": "57226b3c",
   "metadata": {},
   "outputs": [],
   "source": [
    "# Emulation mode does not create connection to the devices\n",
    "do_emulation = True\n",
    "\n",
    "# create device setup\n",
    "\n",
    "device_setup = DeviceSetup.from_descriptor(\n",
    "    descriptor,\n",
    "    server_host=\"localhost\",  # ip address of the LabOne dataserver used to communicate with the instruments\n",
    "    server_port=\"8004\",  # port number of the dataserver - default is 8004\n",
    "    setup_name=\"ZI_QCCS\",  # setup name\n",
    ")\n",
    "shfqa_address = \"dev12XX0\""
   ]
  },
  {
   "attachments": {},
   "cell_type": "markdown",
   "id": "ccd7bbc2-5a08-448a-ae5a-1273f2879a7f",
   "metadata": {
    "tags": []
   },
   "source": [
    "### 1.2 Qubit Parameters\n",
    "\n",
    "A python dictionary containing all parameters needed to control and readout the qubits - frequencies, pulse lengths, timings\n",
    "\n",
    "May initially contain only the design parameters and will be updated with measurement results during the tuneup procedure"
   ]
  },
  {
   "cell_type": "code",
   "execution_count": null,
   "id": "e5ca3e9f",
   "metadata": {},
   "outputs": [],
   "source": [
    "# a function to define a collection of single qubit control and readout parameters as a python dictionary\n",
    "\n",
    "\n",
    "def single_qubit_parameters():\n",
    "    return {\n",
    "        \"freq\": 100e6,  # qubit 0 drive frequency in [Hz] - relative to local oscillator for qubit drive upconversion\n",
    "        \"ro_freq\": 5e6,  # 50e6,\n",
    "        \"ro_delay\": 0,  # 15e-9,#100e-9,\n",
    "        \"ro_int_delay\": 0,  # 40-9,\n",
    "        \"qb_len_spec\": 1e-6,\n",
    "        \"qb_len\": 700e-9,\n",
    "        \"qb_amp_spec\": 1.0,\n",
    "        \"pi_amp\": 1,\n",
    "        \"freq_ef\": -500e6,\n",
    "    }\n",
    "\n",
    "\n",
    "# for sake of simplicity, give all qubits the same initial parameters\n",
    "qubit_parameters = {\n",
    "    k: single_qubit_parameters() for k in device_setup.logical_signal_groups.keys()\n",
    "}\n",
    "\n",
    "\n",
    "# up / downconversion settings - to convert between IF and RF frequencies\n",
    "def single_lo_settings():\n",
    "    return {\n",
    "        # SHFQA LO Frequency\n",
    "        \"shfqa_lo\": 6.0e9,\n",
    "        # SHFSG LO Frequencies, one center frequency per two channels on SHFQC\n",
    "        \"shfsg_lo\": 5.0e9,\n",
    "    }\n",
    "\n",
    "\n",
    "lo_settings = {\n",
    "    k: single_lo_settings() for k in device_setup.logical_signal_groups.keys()\n",
    "}"
   ]
  },
  {
   "attachments": {},
   "cell_type": "markdown",
   "id": "1cf5143d-d3dc-48e9-9636-7c429a290f83",
   "metadata": {
    "tags": []
   },
   "source": [
    "### 1.3 Setup Calibration\n",
    "\n",
    "Generate a calibration object from the qubit control and readout parameters"
   ]
  },
  {
   "cell_type": "code",
   "execution_count": null,
   "id": "ec886946",
   "metadata": {},
   "outputs": [],
   "source": [
    "# function that defines the device settings for qubit and readout parameters\n",
    "\n",
    "\n",
    "def define_calibration(device_setup, parameters, lo_settings):\n",
    "    # Define LOs\n",
    "    def single_oscillator(id, qubit, lo_type):\n",
    "        oscillator = Oscillator()\n",
    "        oscillator.uid = f\"{id}\" + f\"{qubit}\" + \"_osc\"\n",
    "        oscillator.frequency = lo_settings[qubit][lo_type]\n",
    "        return oscillator\n",
    "\n",
    "    readout_lo_dict = {\n",
    "        k: single_oscillator(\"readout_lo_\", k, \"shfqa_lo\")\n",
    "        for k in device_setup.logical_signal_groups.keys()\n",
    "    }\n",
    "\n",
    "    drive_lo_dict = {\n",
    "        k: single_oscillator(\"drive_lo_\", k, \"shfsg_lo\")\n",
    "        for k in device_setup.logical_signal_groups.keys()\n",
    "    }\n",
    "\n",
    "    # the calibration object will later be applied to the device setup\n",
    "    calibration = Calibration()\n",
    "\n",
    "    # qubits q0-q3 are multiplexed on one acquisition line\n",
    "    calibration[\n",
    "        device_setup.logical_signal_groups[\"q0\"].logical_signals[\"acquire_line\"]\n",
    "    ] = SignalCalibration(\n",
    "        oscillator=Oscillator(\n",
    "            frequency=parameters[\"q0\"][\"ro_freq\"],\n",
    "            modulation_type=ModulationType.SOFTWARE,\n",
    "        ),\n",
    "        # add an offset between the readout pulse and the start of the data acquisition - to compensate for round-trip time of readout pulse\n",
    "        port_delay=parameters[\"q0\"][\"ro_delay\"] + parameters[\"q0\"][\"ro_int_delay\"],\n",
    "        local_oscillator=readout_lo_dict[\"q0\"],\n",
    "        range=-20,\n",
    "    )\n",
    "\n",
    "    for logical_signal_group in device_setup.logical_signal_groups.keys():\n",
    "        # measure line\n",
    "        calibration[\n",
    "            device_setup.logical_signal_groups[logical_signal_group].logical_signals[\n",
    "                \"measure_line\"\n",
    "            ]\n",
    "        ] = SignalCalibration(\n",
    "            oscillator=Oscillator(\n",
    "                frequency=parameters[logical_signal_group][\"ro_freq\"],\n",
    "                modulation_type=ModulationType.SOFTWARE,\n",
    "            ),\n",
    "            port_delay=parameters[\"q0\"][\"ro_delay\"],\n",
    "            local_oscillator=readout_lo_dict[\"q0\"],\n",
    "            range=-20,\n",
    "        )\n",
    "\n",
    "        calibration[\n",
    "            device_setup.logical_signal_groups[logical_signal_group].logical_signals[\n",
    "                \"drive_line\"\n",
    "            ]\n",
    "        ] = SignalCalibration(\n",
    "            # each logical signal can have an oscillator associated with it\n",
    "            oscillator=Oscillator(\n",
    "                frequency=parameters[logical_signal_group][\"freq\"],\n",
    "                modulation_type=ModulationType.HARDWARE,\n",
    "            ),\n",
    "            # DANGER! Verify which qubits share the same LOs!\n",
    "            local_oscillator=drive_lo_dict[logical_signal_group],\n",
    "            range=-20,\n",
    "        )\n",
    "    return calibration"
   ]
  },
  {
   "attachments": {},
   "cell_type": "markdown",
   "id": "7b2ff63f",
   "metadata": {},
   "source": [
    "### 1.4 Define near-time callbacks"
   ]
  },
  {
   "cell_type": "code",
   "execution_count": null,
   "id": "b3354244",
   "metadata": {},
   "outputs": [],
   "source": [
    "import logging\n",
    "\n",
    "mylogger = logging.getLogger(\"neartime_callback\")\n",
    "\n",
    "\n",
    "# A near-time callback can be used to sweep the DC bias\n",
    "# The function may return values, which will be accessible after execution\n",
    "# The first argument must be the LabOne Q SW session\n",
    "\n",
    "\n",
    "def set_dc_bias(session, voltage):\n",
    "    mylogger.info(f\"Called 'neartime_callback' with params: voltage={voltage:.1f}\")\n",
    "    # Insert your code here that sets the voltage\n",
    "    return f\"voltage={voltage:.1f}\""
   ]
  },
  {
   "attachments": {},
   "cell_type": "markdown",
   "id": "f147afc0-dcde-4475-a96c-2a5e53e5176e",
   "metadata": {
    "tags": []
   },
   "source": [
    "## 2. Apply Calibration Data, Connect to the Instruments"
   ]
  },
  {
   "attachments": {},
   "cell_type": "markdown",
   "id": "7a113bea-2b36-4f29-9eb7-2b76b061983d",
   "metadata": {},
   "source": [
    "### 2.1 Set Calibration\n",
    "\n",
    "Create qubit control and readout calibration, and apply it to the device setup."
   ]
  },
  {
   "cell_type": "code",
   "execution_count": null,
   "id": "c1e945e7",
   "metadata": {},
   "outputs": [],
   "source": [
    "# define Calibration object based on qubit control and readout parameters\n",
    "calibration = define_calibration(device_setup, qubit_parameters, lo_settings)\n",
    "# apply calibration to device setup\n",
    "device_setup.set_calibration(calibration)"
   ]
  },
  {
   "attachments": {},
   "cell_type": "markdown",
   "id": "62ae58f8-4016-43e2-8c33-ee88645c7268",
   "metadata": {},
   "source": [
    "### 2.2 Create and Connect to a QCCS Session \n",
    "\n",
    "Establishes a session and connection to the instruments.\n",
    "\n",
    "Register the near-time callback to the session."
   ]
  },
  {
   "cell_type": "code",
   "execution_count": null,
   "id": "6bb93815",
   "metadata": {},
   "outputs": [],
   "source": [
    "# perform experiments in emulation mode only? - if True, also generate dummy data for fitting\n",
    "emulate = True\n",
    "\n",
    "# create and connect to a session\n",
    "session = Session(device_setup=device_setup)\n",
    "\n",
    "# register near-time callback\n",
    "session.register_neartime_callback(set_dc_bias)\n",
    "\n",
    "session.connect(do_emulation=emulate)"
   ]
  },
  {
   "attachments": {},
   "cell_type": "markdown",
   "id": "7f026e91-dff5-4548-9ecd-fb6db4f85a50",
   "metadata": {
    "tags": []
   },
   "source": [
    "## 3. Experimental Sequences\n",
    "\n",
    "Sequence of experiments for tune-up of a superconducting qubit with DC bias in circuit QED architecture "
   ]
  },
  {
   "attachments": {},
   "cell_type": "markdown",
   "id": "18e4a41a-b1c7-432e-8cbf-d845da55b19a",
   "metadata": {
    "tags": []
   },
   "source": [
    "### 3.1 Resonator Spectroscopy: CW with DC Bias\n",
    "\n",
    "Find the resonance frequency of the qubit readout resonator by looking at the transmission or reflection of a probe signal applied through the readout line"
   ]
  },
  {
   "attachments": {},
   "cell_type": "markdown",
   "id": "42dc8040-ce2a-4a52-8e14-cf87f0c52916",
   "metadata": {
    "tags": []
   },
   "source": [
    "#### 3.1.1 Additional Experimental Parameters\n",
    "\n",
    "Define the frequency scan and the excitation pulse"
   ]
  },
  {
   "cell_type": "code",
   "execution_count": null,
   "id": "ec430d0c",
   "metadata": {},
   "outputs": [],
   "source": [
    "# frequency range of spectroscopy scan - around expected centre frequency as defined in qubit parameters\n",
    "start_freq = -500.0e6\n",
    "stop_freq = 500.0e6\n",
    "num_points = 5\n",
    "integration_time = 1e-3\n",
    "num_averages = 2\n",
    "\n",
    "\n",
    "# define sweep parameter\n",
    "def create_readout_freq_sweep(qubit, start_freq, stop_freq, num_points):\n",
    "    return LinearSweepParameter(\n",
    "        uid=f\"res_freq_{qubit}\",\n",
    "        start=start_freq + qubit_parameters[qubit][\"ro_freq\"],\n",
    "        stop=stop_freq + qubit_parameters[qubit][\"ro_freq\"],\n",
    "        count=num_points,\n",
    "    )\n",
    "\n",
    "\n",
    "# define sweep parameter for DC bias\n",
    "def create_dc_bias_sweep(start, stop, count):\n",
    "    return LinearSweepParameter(\n",
    "        uid=\"dc_volt_sweep_param\",\n",
    "        start=start,\n",
    "        stop=stop,\n",
    "        count=count,\n",
    "    )"
   ]
  },
  {
   "attachments": {},
   "cell_type": "markdown",
   "id": "44bed766-917f-4d01-98c8-86c6e841fc44",
   "metadata": {
    "tags": []
   },
   "source": [
    "#### 3.1.2 Experiment Definition\n",
    "\n",
    "Define the experimental pulse and readout sequence - here without any explicit qubit reference\n",
    "\n",
    "Explicit qubit reference is then given through different experimental calibration and signal maps"
   ]
  },
  {
   "cell_type": "code",
   "execution_count": null,
   "id": "0a23b124",
   "metadata": {},
   "outputs": [],
   "source": [
    "# function that defines a resonator spectroscopy experiment, and takes the frequency sweep as a parameter\n",
    "\n",
    "\n",
    "def res_spectroscopy_CW_bias_sweep(freq_sweep, dc_volt_sweep, exp_settings):\n",
    "    # Create resonator spectroscopy experiment - uses only readout drive and signal acquisition\n",
    "    exp_spec = Experiment(\n",
    "        uid=\"Resonator Spectroscopy\",\n",
    "        signals=[\n",
    "            ExperimentSignal(\"measure\"),\n",
    "            ExperimentSignal(\"acquire\"),\n",
    "        ],\n",
    "    )\n",
    "    ## define experimental sequence\n",
    "    # near-time loop - vary dc bias\n",
    "    with exp_spec.sweep(uid=\"dc_volt_sweep\", parameter=dc_volt_sweep):\n",
    "        exp_spec.call(set_dc_bias, voltage=dc_volt_sweep)\n",
    "        # real-time loop - average multiple measurements for each frequency - measurement in spectroscopy mode\n",
    "        with exp_spec.acquire_loop_rt(\n",
    "            uid=\"shots\",\n",
    "            count=exp_settings[\"num_averages\"],\n",
    "            acquisition_type=AcquisitionType.SPECTROSCOPY,\n",
    "        ):\n",
    "            with exp_spec.sweep(uid=\"res_freq\", parameter=freq_sweep):\n",
    "                # readout pulse and data acquisition\n",
    "                with exp_spec.section(uid=\"spectroscopy\"):\n",
    "                    # resonator signal readout\n",
    "                    exp_spec.acquire(\n",
    "                        signal=\"acquire\",\n",
    "                        handle=\"res_spec\",\n",
    "                        length=exp_settings[\"integration_time\"],\n",
    "                    )\n",
    "                with exp_spec.section(uid=\"delay\", length=1e-6):\n",
    "                    # holdoff time after signal acquisition\n",
    "                    exp_spec.reserve(signal=\"measure\")\n",
    "\n",
    "    return exp_spec"
   ]
  },
  {
   "cell_type": "code",
   "execution_count": null,
   "id": "ef6af11c",
   "metadata": {},
   "outputs": [],
   "source": [
    "# function that returns the calibration of the readout line oscillator for the experimental signals\n",
    "\n",
    "\n",
    "def res_spec_calib(freq_sweep):\n",
    "    exp_calibration = Calibration()\n",
    "    # sets the oscillator of the experimental measure signal\n",
    "    exp_calibration[\"measure\"] = SignalCalibration(\n",
    "        # for spectroscopy, use the hardware oscillator of the QA, and set the sweep parameter as frequency\n",
    "        oscillator=Oscillator(\n",
    "            \"readout_osc\",\n",
    "            frequency=freq_sweep,\n",
    "            modulation_type=ModulationType.HARDWARE,\n",
    "        )\n",
    "    )\n",
    "    return exp_calibration\n",
    "\n",
    "\n",
    "# signal maps for the two different qubits - maps the logical signal of the device setup to the experimental signals of the experiment\n",
    "\n",
    "\n",
    "def res_spec_map(qubit):\n",
    "    signal_map = {\n",
    "        \"measure\": device_setup.logical_signal_groups[f\"{qubit}\"].logical_signals[\n",
    "            \"measure_line\"\n",
    "        ],\n",
    "        \"acquire\": device_setup.logical_signal_groups[f\"{qubit}\"].logical_signals[\n",
    "            \"acquire_line\"\n",
    "        ],\n",
    "    }\n",
    "    return signal_map"
   ]
  },
  {
   "attachments": {},
   "cell_type": "markdown",
   "id": "818a5d99-8982-4758-8120-446be6f0a016",
   "metadata": {
    "tags": []
   },
   "source": [
    "#### 3.1.3 Run and Evaluate Experiment\n",
    "Runs the experiment and evaluates the data returned by the measurement"
   ]
  },
  {
   "cell_type": "code",
   "execution_count": null,
   "id": "4c2fae1a",
   "metadata": {},
   "outputs": [],
   "source": [
    "# define the experiment with the frequency sweep relevant for qubit 0\n",
    "freq_sweep = create_readout_freq_sweep(\"q0\", start_freq, stop_freq, num_points)\n",
    "dc_volt_sweep = create_dc_bias_sweep(start=0, stop=0.1, count=10)\n",
    "\n",
    "exp_settings = {\"integration_time\": integration_time, \"num_averages\": num_averages}\n",
    "exp_spec = res_spectroscopy_CW_bias_sweep(freq_sweep, dc_volt_sweep, exp_settings)\n",
    "\n",
    "# set signal calibration and signal map for experiment to qubit 0\n",
    "exp_spec.set_calibration(res_spec_calib(freq_sweep))"
   ]
  },
  {
   "cell_type": "code",
   "execution_count": null,
   "id": "2bf09b4c",
   "metadata": {},
   "outputs": [],
   "source": [
    "exp_spec.set_signal_map(res_spec_map(\"q0\"))\n",
    "\n",
    "# run the experiment on the open instrument session\n",
    "compiled_res_spec = session.compile(exp_spec)\n",
    "res_spec_results = session.run()"
   ]
  },
  {
   "cell_type": "code",
   "execution_count": null,
   "id": "6cbb71e4",
   "metadata": {},
   "outputs": [],
   "source": [
    "# get the measurement data returned by the instruments from the QCCS session\n",
    "spec_res = res_spec_results.get_data(\"res_spec\")\n",
    "spec_freq = lo_settings[\"q0\"][\"shfqa_lo\"] + res_spec_results.get_axis(\"res_spec\")[0]\n",
    "plot_results(res_spec_results)"
   ]
  },
  {
   "attachments": {},
   "cell_type": "markdown",
   "id": "d9a8dc1f",
   "metadata": {},
   "source": [
    "#### 3.1.4 Update Calibration"
   ]
  },
  {
   "cell_type": "code",
   "execution_count": null,
   "id": "e2b228d2",
   "metadata": {},
   "outputs": [],
   "source": [
    "# From the fitting, set the qubit operating freq here\n",
    "opt_freq = None\n",
    "print(f\"Resonant frequency: {opt_freq} GHz\")\n",
    "\n",
    "if not emulate:\n",
    "    # update qubit parameter dictionary with results from data fitting\n",
    "\n",
    "    qubit_parameters[\"q0\"][\"ro_freq\"] = opt_freq - lo_settings[\"q0\"][\"shfqa_lo\"]\n",
    "    # update calibration\n",
    "\n",
    "    # apply calibration to device setup\n",
    "    device_setup.set_calibration(\n",
    "        define_calibration(device_setup, qubit_parameters, lo_settings)\n",
    "    )"
   ]
  },
  {
   "attachments": {},
   "cell_type": "markdown",
   "id": "253bbdd5",
   "metadata": {},
   "source": [
    "### 3.2 Resonator Spectroscopy: Pulsed with DC Bias"
   ]
  },
  {
   "cell_type": "code",
   "execution_count": null,
   "id": "a5a8a5a9",
   "metadata": {},
   "outputs": [],
   "source": [
    "# frequency range of spectroscopy scan -\n",
    "# around expected centre frequency as defined in qubit parameters\n",
    "start_freq = -500e6\n",
    "stop_freq = 500e6\n",
    "num_points = 1001\n",
    "\n",
    "# define number of averages\n",
    "# used for 2^num_averages, maximum: num_averages = 17\n",
    "num_averages = 4\n",
    "\n",
    "# pulse parameters and definitions\n",
    "envelope_duration = 2.0e-6\n",
    "sigma = 0.2\n",
    "flat_duration = 1.0e-6\n",
    "\n",
    "\n",
    "def create_readout_pulse(\n",
    "    qubit, length=envelope_duration, amplitude=0.9, width=flat_duration, sigma=sigma\n",
    "):\n",
    "    readout_pulse = pulse_library.gaussian_square(\n",
    "        uid=f\"readout_pulse_{qubit}\",\n",
    "        length=length,\n",
    "        amplitude=amplitude,\n",
    "        width=width,\n",
    "        sigma=sigma,\n",
    "    )\n",
    "    return readout_pulse\n",
    "\n",
    "\n",
    "readout_pulse = create_readout_pulse(\"q0\")"
   ]
  },
  {
   "cell_type": "code",
   "execution_count": null,
   "id": "33aa6624",
   "metadata": {},
   "outputs": [],
   "source": [
    "# function that defines a resonator spectroscopy experiment, and takes the frequency sweep as a parameter\n",
    "\n",
    "\n",
    "def res_spectroscopy_pulsed_bias_sweep(\n",
    "    freq_sweep, dc_volt_sweep, num_averages, readout_pulse\n",
    "):\n",
    "    # Create resonator spectroscopy experiment - uses only readout drive and signal acquisition\n",
    "    exp_spec_pulsed = Experiment(\n",
    "        uid=\"Puslsed Resonator Spectroscopy Bias Sweep\",\n",
    "        signals=[\n",
    "            ExperimentSignal(\"measure\"),\n",
    "            ExperimentSignal(\"acquire\"),\n",
    "        ],\n",
    "    )\n",
    "\n",
    "    ## define experimental sequence\n",
    "    # near-time loop - vary dc bias\n",
    "    with exp_spec_pulsed.sweep(uid=\"dc_volt_sweep\", parameter=dc_volt_sweep):\n",
    "        exp_spec_pulsed.call(set_dc_bias, voltage=dc_volt_sweep)\n",
    "        # real-time loop - average multiple measurements for each frequency - measurement in spectroscopy mode\n",
    "        with exp_spec_pulsed.acquire_loop_rt(\n",
    "            uid=\"shots\",\n",
    "            count=2**num_averages,\n",
    "            acquisition_type=AcquisitionType.SPECTROSCOPY,\n",
    "        ):\n",
    "            with exp_spec_pulsed.sweep(uid=\"res_freq\", parameter=freq_sweep):\n",
    "                # readout pulse and data acquisition\n",
    "                with exp_spec_pulsed.section(uid=\"spectroscopy\"):\n",
    "                    # play resonator excitation pulse\n",
    "                    exp_spec_pulsed.play(signal=\"measure\", pulse=readout_pulse)\n",
    "                    # resonator signal readout\n",
    "                    exp_spec_pulsed.acquire(\n",
    "                        signal=\"acquire\",\n",
    "                        handle=\"res_spec_pulsed\",\n",
    "                        length=envelope_duration,\n",
    "                    )\n",
    "                # relax time after readout - for qubit relaxation to groundstate and signal processing\n",
    "                with exp_spec_pulsed.section(uid=\"relax\", length=1e-6):\n",
    "                    exp_spec_pulsed.reserve(signal=\"measure\")\n",
    "\n",
    "    return exp_spec_pulsed"
   ]
  },
  {
   "cell_type": "code",
   "execution_count": null,
   "id": "a893e6a4",
   "metadata": {},
   "outputs": [],
   "source": [
    "# create freq sweep\n",
    "freq_sweep = create_readout_freq_sweep(\"q0\", start_freq, stop_freq, num_points)\n",
    "dc_volt_sweep = create_dc_bias_sweep(start=0, stop=0.1, count=10)\n",
    "# define the experiment with the frequency sweep relevant for qubit 0\n",
    "\n",
    "# exp_spec_pulsed = res_spectroscopy_pulsed(freq_sweep, num_averages, readout_pulse)\n",
    "exp_spec_pulsed = res_spectroscopy_pulsed_bias_sweep(\n",
    "    freq_sweep, dc_volt_sweep, num_averages, readout_pulse\n",
    ")\n",
    "\n",
    "# set signal calibration and signal map for experiment to qubit 0\n",
    "exp_spec_pulsed.set_calibration(res_spec_calib(freq_sweep))\n",
    "exp_spec_pulsed.set_signal_map(res_spec_map(\"q0\"))"
   ]
  },
  {
   "cell_type": "code",
   "execution_count": null,
   "id": "5d2af057",
   "metadata": {},
   "outputs": [],
   "source": [
    "# compile the experiment on the open instrument session\n",
    "compiled_spec_pulsed = session.compile(exp_spec_pulsed)\n",
    "\n",
    "Path(\"Pulse_Sheets\").mkdir(parents=True, exist_ok=True)\n",
    "# generate a pulse sheet to inspect experiment before runtime\n",
    "show_pulse_sheet(\"Pulse_Sheets/Pulsed_Spectroscopy\", compiled_spec_pulsed)"
   ]
  },
  {
   "cell_type": "code",
   "execution_count": null,
   "id": "4d34bff9",
   "metadata": {},
   "outputs": [],
   "source": [
    "# run the experiment on the open instrument session\n",
    "spec_pulsed_results = session.run()\n",
    "plot_results(spec_pulsed_results)"
   ]
  },
  {
   "cell_type": "code",
   "execution_count": null,
   "id": "f93c2ed8",
   "metadata": {},
   "outputs": [],
   "source": [
    "# get the measurement data returned by the instruments from the QCCS session\n",
    "spec_res = spec_pulsed_results.get_data(\"res_spec_pulsed\")\n",
    "# define the frequency axis from the qubit parameters\n",
    "spec_freq = (\n",
    "    lo_settings[\"q0\"][\"shfqa_lo\"] + spec_pulsed_results.get_axis(\"res_spec_pulsed\")[0]\n",
    ")"
   ]
  },
  {
   "attachments": {},
   "cell_type": "markdown",
   "id": "49394dee",
   "metadata": {},
   "source": [
    "#### 3.2.1 Update calibration\n",
    "Extract the resonance frequency and update the calibration"
   ]
  },
  {
   "cell_type": "code",
   "execution_count": null,
   "id": "302d730f",
   "metadata": {},
   "outputs": [],
   "source": [
    "if not emulate:\n",
    "    opt_freq = None\n",
    "    qubit_parameters[\"q0\"][\"ro_freq\"] = opt_freq - lo_settings[\"q0\"][\"shfqa_lo\"]\n",
    "    device_setup.set_calibration(\n",
    "        define_calibration(device_setup, qubit_parameters, lo_settings)\n",
    "    )"
   ]
  },
  {
   "attachments": {},
   "cell_type": "markdown",
   "id": "8a682b18-6de8-4b17-97e9-08d92ac239bd",
   "metadata": {
    "tags": []
   },
   "source": [
    "### 3.3 Pulsed Qubit Spectroscopy with DC Bias\n",
    "\n",
    "Find the resonance frequency of the qubit by looking at the change in resonator transmission when sweeping the frequency of a qubit excitation pulse vs DC bias"
   ]
  },
  {
   "attachments": {},
   "cell_type": "markdown",
   "id": "49f08d92-4194-4937-aa15-209faef72b8f",
   "metadata": {
    "jp-MarkdownHeadingCollapsed": true,
    "tags": []
   },
   "source": [
    "#### 3.3.1 Additional Experimental Parameters\n",
    "\n",
    "Define the frequency scan and the pulses used in the experiment"
   ]
  },
  {
   "cell_type": "code",
   "execution_count": null,
   "id": "d267bdef",
   "metadata": {},
   "outputs": [],
   "source": [
    "def create_drive_freq_sweep(qubit, start_freq, stop_freq, num_points):\n",
    "    return LinearSweepParameter(\n",
    "        uid=f\"drive_freq_{qubit}\",\n",
    "        start=start_freq + qubit_parameters[qubit][\"freq\"],\n",
    "        stop=stop_freq + qubit_parameters[qubit][\"freq\"],\n",
    "        count=num_points,\n",
    "    )\n",
    "\n",
    "\n",
    "def create_drive_spec_pulse(qubit):\n",
    "    pulse = pulse_library.const(\n",
    "        uid=f\"drive_spec_pulse_{qubit}\",\n",
    "        length=qubit_parameters[qubit][\"qb_len_spec\"],\n",
    "        amplitude=qubit_parameters[qubit][\"qb_amp_spec\"],\n",
    "    )\n",
    "    return pulse"
   ]
  },
  {
   "cell_type": "code",
   "execution_count": null,
   "id": "26b38cd7",
   "metadata": {},
   "outputs": [],
   "source": [
    "# frequency range of spectroscopy scan - defined around expected qubit frequency as defined in qubit parameters\n",
    "qspec_range = 100e6\n",
    "# how many frequency points to measure\n",
    "qspec_num = 1001\n",
    "\n",
    "# define number of averages\n",
    "# used for 2^num_averages, maximum: num_averages = 17\n",
    "num_averages = 10"
   ]
  },
  {
   "attachments": {},
   "cell_type": "markdown",
   "id": "fefd645d-ceee-41d3-a86c-403d63d5b4f1",
   "metadata": {},
   "source": [
    "#### 3.3.2 Experiment Definition\n",
    "\n",
    "The frequency sweep of the drive line can now be done in real time (was: near time in older software releases)"
   ]
  },
  {
   "cell_type": "code",
   "execution_count": null,
   "id": "4106f823",
   "metadata": {},
   "outputs": [],
   "source": [
    "# function that returns a qubit spectroscopy experiment- accepts frequency sweep range as parameter\n",
    "\n",
    "\n",
    "def qubit_spectroscopy_bias_sweep(\n",
    "    freq_sweep, dc_volt_sweep, drive_pulse, readout_pulse\n",
    "):\n",
    "    # Create qubit spectroscopy Experiment - uses qubit drive, readout drive and data acquisition lines\n",
    "    exp_qspec = Experiment(\n",
    "        uid=\"Qubit Spectroscopy\",\n",
    "        signals=[\n",
    "            ExperimentSignal(\"drive\"),\n",
    "            ExperimentSignal(\"measure\"),\n",
    "            ExperimentSignal(\"acquire\"),\n",
    "        ],\n",
    "    )\n",
    "\n",
    "    # near-time loop: sweep dc voltage\n",
    "    with exp_qspec.sweep(uid=\"dc_volt_sweep\", parameter=dc_volt_sweep):\n",
    "        exp_qspec.call(set_dc_bias, voltage=dc_volt_sweep)\n",
    "        # real-time loop with frequency sweep\n",
    "        with exp_qspec.acquire_loop_rt(\n",
    "            uid=\"freq_shots\",\n",
    "            count=2**num_averages,\n",
    "            acquisition_type=AcquisitionType.INTEGRATION,\n",
    "        ):\n",
    "            with exp_qspec.sweep(uid=\"qfreq_sweep\", parameter=freq_sweep):\n",
    "                # qubit drive\n",
    "                with exp_qspec.section(uid=\"qubit_excitation\"):\n",
    "                    # exp_qspec.play(signal=\"drive\", pulse=drive_pulse)\n",
    "                    exp_qspec.play(signal=\"drive\", pulse=drive_pulse)\n",
    "                with exp_qspec.section(\n",
    "                    uid=\"readout_section\", play_after=\"qubit_excitation\"\n",
    "                ):\n",
    "                    # play readout pulse on measure line\n",
    "                    exp_qspec.play(signal=\"measure\", pulse=readout_pulse)\n",
    "                    # trigger signal data acquisition\n",
    "                    exp_qspec.acquire(\n",
    "                        signal=\"acquire\",\n",
    "                        handle=\"qb_spec\",\n",
    "                        kernel=readout_pulse,\n",
    "                    )\n",
    "                # relax time after readout - for qubit relaxation to groundstate and signal processing\n",
    "                with exp_qspec.section(uid=\"relax\", length=1e-6):\n",
    "                    exp_qspec.reserve(signal=\"measure\")\n",
    "\n",
    "    return exp_qspec"
   ]
  },
  {
   "cell_type": "code",
   "execution_count": null,
   "id": "67230743",
   "metadata": {},
   "outputs": [],
   "source": [
    "freq_sweep_q0 = create_drive_freq_sweep(\"q0\", -qspec_range, qspec_range, qspec_num)\n",
    "dc_volt_sweep = create_dc_bias_sweep(start=0, stop=0.1, count=10)\n",
    "\n",
    "# experiment signal calibration for qubit 0\n",
    "exp_calibration_q0 = Calibration()\n",
    "exp_calibration_q0[\"drive\"] = SignalCalibration(\n",
    "    oscillator=Oscillator(\n",
    "        frequency=freq_sweep_q0,\n",
    "        modulation_type=ModulationType.HARDWARE,\n",
    "    ),\n",
    ")\n",
    "\n",
    "\n",
    "# signal map for qubit 0\n",
    "def signal_map_default(qubit):\n",
    "    signal_map = {\n",
    "        \"drive\": device_setup.logical_signal_groups[f\"{qubit}\"].logical_signals[\n",
    "            \"drive_line\"\n",
    "        ],\n",
    "        \"measure\": device_setup.logical_signal_groups[f\"{qubit}\"].logical_signals[\n",
    "            \"measure_line\"\n",
    "        ],\n",
    "        \"acquire\": device_setup.logical_signal_groups[f\"{qubit}\"].logical_signals[\n",
    "            \"acquire_line\"\n",
    "        ],\n",
    "    }\n",
    "    return signal_map"
   ]
  },
  {
   "attachments": {},
   "cell_type": "markdown",
   "id": "46bf613c-2f03-4a02-8bc0-1201b845468a",
   "metadata": {},
   "source": [
    "#### 3.3.3 Run and Evaluate Experiment for Both Qubits\n",
    "\n",
    "Runs the experiment and evaluates the data returned by the measurement"
   ]
  },
  {
   "cell_type": "code",
   "execution_count": null,
   "id": "3e6493a3",
   "metadata": {},
   "outputs": [],
   "source": [
    "# define experiment with frequency sweep for qubit 0\n",
    "drive_pulse = create_drive_spec_pulse(\"q0\")\n",
    "\n",
    "readout_pulse = create_readout_pulse(\"q0\", length=1000e-9, width=900e-9, sigma=0.2)\n",
    "\n",
    "device_setup.set_calibration(\n",
    "    define_calibration(device_setup, qubit_parameters, lo_settings)\n",
    ")\n",
    "\n",
    "# exp_qspec = qubit_spectroscopy(freq_sweep_q0, drive_pulse, readout_pulse)\n",
    "exp_qspec = qubit_spectroscopy_bias_sweep(\n",
    "    freq_sweep_q0, dc_volt_sweep, drive_pulse, readout_pulse\n",
    ")\n",
    "\n",
    "# apply calibration and signal map for qubit 0\n",
    "exp_qspec.set_calibration(exp_calibration_q0)\n",
    "exp_qspec.set_signal_map(signal_map_default(\"q0\"))"
   ]
  },
  {
   "cell_type": "code",
   "execution_count": null,
   "id": "34ce0857",
   "metadata": {},
   "outputs": [],
   "source": [
    "# compile the experiment on the open instrument session\n",
    "compiled_qspec = session.compile(exp_qspec)\n",
    "\n",
    "Path(\"Pulse_Sheets\").mkdir(parents=True, exist_ok=True)\n",
    "# generate a pulse sheet to inspect experiment before runtime\n",
    "show_pulse_sheet(\"Pulse_Sheets/Qubit_Spectroscopy\", compiled_qspec)\n",
    "\n",
    "plot_simulation(compiled_qspec, start_time=0, length=100e-6)"
   ]
  },
  {
   "cell_type": "code",
   "execution_count": null,
   "id": "50921ab2",
   "metadata": {},
   "outputs": [],
   "source": [
    "# run the experiment on qubit 0\n",
    "qspec_results = session.run()\n",
    "plot_results(qspec_results)"
   ]
  },
  {
   "attachments": {},
   "cell_type": "markdown",
   "id": "7ef1f4a1",
   "metadata": {},
   "source": [
    "Do fitting and frequency update now if not in emulation mode:"
   ]
  },
  {
   "cell_type": "code",
   "execution_count": null,
   "id": "bb43baf4",
   "metadata": {},
   "outputs": [],
   "source": [
    "# update qubit parameters\n",
    "if not emulate:\n",
    "    qubit_operating_freq = None\n",
    "    qubit_parameters[\"q0\"][\"freq\"] = (\n",
    "        qubit_operating_freq - lo_settings[\"q0\"][\"shfsg_lo\"]\n",
    "    )\n",
    "    device_setup.set_calibration(\n",
    "        define_calibration(device_setup, qubit_parameters, lo_settings)\n",
    "    )"
   ]
  }
 ],
 "metadata": {
  "hide_input": false,
  "kernelspec": {
   "display_name": "venv_qccs",
   "language": "python",
   "name": "python3"
  },
  "language_info": {
   "codemirror_mode": {
    "name": "ipython",
    "version": 3
   },
   "file_extension": ".py",
   "mimetype": "text/x-python",
   "name": "python",
   "nbconvert_exporter": "python",
   "pygments_lexer": "ipython3",
   "version": "3.11.3"
  },
  "toc": {
   "base_numbering": 1,
   "nav_menu": {},
   "number_sections": true,
   "sideBar": true,
   "skip_h1_title": false,
   "title_cell": "Table of Contents",
   "title_sidebar": "Contents",
   "toc_cell": false,
   "toc_position": {
    "height": "calc(100% - 180px)",
    "left": "10px",
    "top": "150px",
    "width": "409.6px"
   },
   "toc_section_display": true,
   "toc_window_display": true
  },
  "varInspector": {
   "cols": {
    "lenName": 16,
    "lenType": 16,
    "lenVar": 40
   },
   "kernels_config": {
    "python": {
     "delete_cmd_postfix": "",
     "delete_cmd_prefix": "del ",
     "library": "var_list.py",
     "varRefreshCmd": "print(var_dic_list())"
    },
    "r": {
     "delete_cmd_postfix": ") ",
     "delete_cmd_prefix": "rm(",
     "library": "var_list.r",
     "varRefreshCmd": "cat(var_dic_list()) "
    }
   },
   "types_to_exclude": [
    "module",
    "function",
    "builtin_function_or_method",
    "instance",
    "_Feature"
   ],
   "window_display": false
  }
 },
 "nbformat": 4,
 "nbformat_minor": 5
}
