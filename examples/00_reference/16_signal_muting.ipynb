{
 "cells": [
  {
   "cell_type": "markdown",
   "metadata": {},
   "source": [
    "# Signal Muting"
   ]
  },
  {
   "cell_type": "markdown",
   "metadata": {},
   "source": [
    "This notebook demonstrates the signal muting functionality of SHF+ devices.\n",
    "Signal muting can be used to effectively reduce the noise on idle signal lines."
   ]
  },
  {
   "cell_type": "markdown",
   "metadata": {},
   "source": [
    "### 0. Python Imports"
   ]
  },
  {
   "cell_type": "markdown",
   "metadata": {},
   "source": [
    "Import the necessary DSL classes from LabOne Q"
   ]
  },
  {
   "cell_type": "code",
   "execution_count": 8,
   "metadata": {},
   "outputs": [],
   "source": [
    "from laboneq.simple import *\n",
    "from laboneq.contrib.example_helpers.generate_example_datastore import (\n",
    "    generate_example_datastore,\n",
    "    get_first_named_entry,\n",
    ")\n"
   ]
  },
  {
   "cell_type": "markdown",
   "metadata": {},
   "source": [
    "### 1. Device Setup"
   ]
  },
  {
   "cell_type": "markdown",
   "metadata": {},
   "source": [
    "Create the device setup instance for the SHFQC instrument.\n"
   ]
  },
  {
   "cell_type": "code",
   "execution_count": 9,
   "metadata": {},
   "outputs": [],
   "source": [
    "# Build an in-memory data store with device setup and qubit parameters for the\n",
    "# example notebooks\n",
    "dummy_db = generate_example_datastore(in_memory=True)\n",
    "\n",
    "use_emulation = True\n"
   ]
  },
  {
   "cell_type": "code",
   "execution_count": 10,
   "metadata": {},
   "outputs": [],
   "source": [
    "# Choose your setup - local feedback on a standalone SHFQC or ...\n",
    "# feedback_type=\"local\"\n",
    "# my_setup = get_first_named_entry(db=dummy_db, name=\"6_qubit_setup_shfqc_calibrated\")\n",
    "# ... global feedback on a combination of SHFSG and SHFQA, connected through a PQSC\n",
    "feedback_type = \"global\"\n",
    "my_setup = get_first_named_entry(\n",
    "    db=dummy_db, name=\"6_fixed_qubit_setup_shfqc_calibrated\"\n",
    ")\n"
   ]
  },
  {
   "cell_type": "code",
   "execution_count": 11,
   "metadata": {},
   "outputs": [
    {
     "name": "stdout",
     "output_type": "stream",
     "text": [
      "[2024.05.13 15:34:53.457] INFO    Logging initialized from [Default inline config in laboneq.laboneq_logging] logdir is c:\\Users\\thomass\\Programming\\laboneq_develop\\qccs\\examples\\00_reference\\laboneq_output\\log\n",
      "[2024.05.13 15:34:53.464] INFO    VERSION: laboneq 2.30.0b20240508120547+8ccbb053\n",
      "[2024.05.13 15:34:53.468] INFO    Connecting to data server at localhost:8004\n",
      "[2024.05.13 15:34:53.480] INFO    Connected to Zurich Instruments LabOne Data Server version 24.04 at localhost:8004\n",
      "[2024.05.13 15:34:53.486] INFO    Configuring the device setup\n",
      "[2024.05.13 15:34:53.488] INFO    The device setup is configured\n"
     ]
    },
    {
     "data": {
      "text/plain": [
       "<laboneq.dsl.session.ConnectionState at 0x21eefb1ea50>"
      ]
     },
     "execution_count": 11,
     "metadata": {},
     "output_type": "execute_result"
    }
   ],
   "source": [
    "session = Session(my_setup)\n",
    "session.connect(do_emulation=True, ignore_version_mismatch=True)"
   ]
  },
  {
   "cell_type": "markdown",
   "metadata": {},
   "source": [
    "### 2. `automute` Calibration Option"
   ]
  },
  {
   "cell_type": "markdown",
   "metadata": {},
   "source": [
    "Define the calibration function for the `acquire` and `measure` line of the SHFQA.\n",
    "\n",
    "* The muting functionality is enabled on the `measure` line with the option `automute`."
   ]
  },
  {
   "cell_type": "code",
   "execution_count": 13,
   "metadata": {},
   "outputs": [],
   "source": [
    "q0 = my_setup.logical_signal_groups[\"q0\"]\n",
    "\n",
    "q0.logical_signals[\"acquire_line\"].calibration = SignalCalibration(\n",
    "    oscillator=Oscillator(modulation_type=ModulationType.SOFTWARE, frequency=-2.5e8),\n",
    "    local_oscillator=Oscillator(frequency=2e9),\n",
    "    range=5,\n",
    ")\n",
    "\n",
    "q0.logical_signals[\"measure_line\"].calibration = SignalCalibration(\n",
    "    oscillator=Oscillator(modulation_type=ModulationType.SOFTWARE, frequency=-2.5e8),\n",
    "    local_oscillator=Oscillator(frequency=2e9),\n",
    "    automute=True,  # <-- Mute this output line when not playing pulses\n",
    "    range=10,\n",
    ")"
   ]
  },
  {
   "cell_type": "markdown",
   "metadata": {},
   "source": [
    "### 3. Experiment"
   ]
  },
  {
   "cell_type": "markdown",
   "metadata": {},
   "source": [
    "Define an experiment that makes use of the muting functionality.\n",
    "\n",
    "* The small amplitude of the play pulse operation allows us see the effect of the muting function better.\n",
    "* While muting was already enabled by the calibration option `automute`, this functionality needs a sufficiently long delay in between pulses to become active.\n",
    "* More specifically, a minimum delay of 280 ns is needed to mute a given signal line after a pulse has been played on it."
   ]
  },
  {
   "cell_type": "code",
   "execution_count": 14,
   "metadata": {},
   "outputs": [
    {
     "name": "stdout",
     "output_type": "stream",
     "text": [
      "[2024.05.13 15:35:15.222] INFO    Starting LabOne Q Compiler run...\n",
      "[2024.05.13 15:35:15.232] INFO    Schedule completed. [0.001 s]\n",
      "[2024.05.13 15:35:15.254] INFO    Code generation completed for all AWGs. [0.019 s]\n",
      "[2024.05.13 15:35:15.258] INFO    Completed compilation step 1 of 1. [0.026 s]\n",
      "[2024.05.13 15:35:15.285] INFO     ───────────────────────────────────────────────────────────── \n",
      "[2024.05.13 15:35:15.288] INFO     \u001b[1m \u001b[0m\u001b[1mDevice \u001b[0m\u001b[1m \u001b[0m \u001b[1m \u001b[0m\u001b[1mAWG\u001b[0m\u001b[1m \u001b[0m \u001b[1m \u001b[0m\u001b[1mSeqC LOC\u001b[0m\u001b[1m \u001b[0m \u001b[1m \u001b[0m\u001b[1mCT entries\u001b[0m\u001b[1m \u001b[0m \u001b[1m \u001b[0m\u001b[1mWaveforms\u001b[0m\u001b[1m \u001b[0m \u001b[1m \u001b[0m\u001b[1mSamples\u001b[0m\u001b[1m \u001b[0m \n",
      "[2024.05.13 15:35:15.292] INFO     ───────────────────────────────────────────────────────────── \n",
      "[2024.05.13 15:35:15.295] INFO      shfqc_0     0         12            0           1      2016  \n",
      "[2024.05.13 15:35:15.297] INFO     ───────────────────────────────────────────────────────────── \n",
      "[2024.05.13 15:35:15.299] INFO     \u001b[1m \u001b[0m\u001b[1mTOTAL  \u001b[0m\u001b[1m \u001b[0m \u001b[1m \u001b[0m\u001b[1m   \u001b[0m\u001b[1m \u001b[0m \u001b[1m \u001b[0m\u001b[1m      12\u001b[0m\u001b[1m \u001b[0m \u001b[1m \u001b[0m\u001b[1m         0\u001b[0m\u001b[1m \u001b[0m \u001b[1m \u001b[0m\u001b[1m         \u001b[0m\u001b[1m \u001b[0m \u001b[1m \u001b[0m\u001b[1m   2016\u001b[0m\u001b[1m \u001b[0m \n",
      "[2024.05.13 15:35:15.302] INFO     ───────────────────────────────────────────────────────────── \n",
      "[2024.05.13 15:35:15.320] INFO    Finished LabOne Q Compiler run.\n",
      "\n",
      "SeqC:\n",
      "\n",
      "waitDigTrigger(1);\n",
      "playZero(160);\n",
      "resetOscPhase();\n",
      "repeat (32) {\n",
      "  playZero(1008);\n",
      "  startQA(QA_GEN_0,QA_INT_0,0);\n",
      "  playZero(256);\n",
      "  playZero(272);\n",
      "  setTrigger(1);\n",
      "  playZero(32);\n",
      "  setTrigger(0);\n",
      "}\n",
      "\n"
     ]
    }
   ],
   "source": [
    "exp = Experiment(\n",
    "    signals=[\n",
    "        ExperimentSignal(\"acquire\", map_to=q0.logical_signals[\"acquire_line\"]),\n",
    "        ExperimentSignal(\"measure\", map_to=q0.logical_signals[\"measure_line\"]),\n",
    "    ]\n",
    ")\n",
    "pulse = pulse_library.const(length=5e-7, amplitude=1)\n",
    "\n",
    "with exp.acquire_loop_rt(count=2**5):\n",
    "    with exp.section(uid=\"measure\"):\n",
    "        exp.play(\"measure\", pulse=pulse, amplitude=0.01)\n",
    "        exp.acquire(\"acquire\", kernel=pulse, handle=\"h\")\n",
    "        exp.delay(\"acquire\", 280e-9)\n",
    "        exp.delay(\"measure\", 280e-9)  # <-- muting active for delays >= 280 ns\n",
    "\n",
    "compiled_exp = session.compile(exp)\n",
    "print(\"\\nSeqC:\\n\")\n",
    "print(compiled_exp.scheduled_experiment.artifacts.src[0][\"text\"])"
   ]
  },
  {
   "cell_type": "markdown",
   "metadata": {},
   "source": [
    "### 4. Result"
   ]
  },
  {
   "cell_type": "markdown",
   "metadata": {},
   "source": [
    "We are now ready to run the experiment and observe the muting of the signal on an oscilloscope.\n",
    "\n",
    "The following wiring to the oscilloscope is used\n",
    "* QA output signal\n",
    "* QA marker signal\n"
   ]
  },
  {
   "cell_type": "code",
   "execution_count": 15,
   "metadata": {},
   "outputs": [
    {
     "name": "stdout",
     "output_type": "stream",
     "text": [
      "[2024.05.13 15:35:18.260] INFO    Configuring the device setup\n",
      "[2024.05.13 15:35:18.263] INFO    The device setup is configured\n",
      "[2024.05.13 15:35:18.278] WARNING SHFQC/QA:dev12003: Device output muting is enabled, but the device is not SHF+ and therefore no muting will happen. It is suggested to disable it.\n",
      "[2024.05.13 15:35:18.284] INFO    Starting near-time execution...\n",
      "[2024.05.13 15:35:18.345] INFO    Finished near-time execution.\n"
     ]
    }
   ],
   "source": [
    "_ = session.run(compiled_exp)"
   ]
  },
  {
   "cell_type": "markdown",
   "metadata": {},
   "source": [
    "We see the behavior of the QA output and marker signal before and during the sequence of pulses played by\n",
    "```\n",
    "    exp.play(\"measure\", pulse=pulse, amplitude=0.01)\n",
    "```\n",
    "\n",
    "and observe the following\n",
    "\n",
    "* Without muting, we see the same noise level before and during the sequence of pulses \n",
    "\n",
    "* We see the muting function being active from the marker signal.\n",
    "\n",
    "* When muting is active the noise level between individual pulses is reduced compared to before the pulse sequence.\n"
   ]
  }
 ],
 "metadata": {
  "kernelspec": {
   "display_name": "zi-py310",
   "language": "python",
   "name": "python3"
  },
  "language_info": {
   "codemirror_mode": {
    "name": "ipython",
    "version": 3
   },
   "file_extension": ".py",
   "mimetype": "text/x-python",
   "name": "python",
   "nbconvert_exporter": "python",
   "pygments_lexer": "ipython3",
   "version": "3.11.9"
  }
 },
 "nbformat": 4,
 "nbformat_minor": 4
}
