{
 "cells": [
  {
   "cell_type": "markdown",
   "metadata": {},
   "source": [
    "# Programmatic Device Setup Construction\n",
    "\n",
    "The device setup object is used by LabOne Q to retrieve all information relating to the dataserver and the instruments connected to it from.\n",
    "Once complete, the device setup object exposes `LogicalSignals` and an interface to apply persistent `Calibration` changes to them or other calibratables contained in the device setup.\n",
    "\n",
    "In this notebook, you will learn how to define `DeviceSetup` objects for different instruments setups by using the recent programmatic construction functionality of LabOne Q."
   ]
  },
  {
   "cell_type": "markdown",
   "metadata": {},
   "source": [
    "## Imports"
   ]
  },
  {
   "cell_type": "markdown",
   "metadata": {},
   "source": [
    "LabOne Q standard imports"
   ]
  },
  {
   "cell_type": "code",
   "execution_count": null,
   "metadata": {},
   "outputs": [],
   "source": [
    "from laboneq.simple import *"
   ]
  },
  {
   "cell_type": "markdown",
   "metadata": {},
   "source": [
    "## Device Setup Initialization and Dataserver"
   ]
  },
  {
   "cell_type": "markdown",
   "metadata": {},
   "source": [
    "We begin by initializing a mostly empty `DeviceSetup` instance "
   ]
  },
  {
   "cell_type": "code",
   "execution_count": null,
   "metadata": {},
   "outputs": [],
   "source": [
    "device_setup = DeviceSetup(\"my_setup_1\")"
   ]
  },
  {
   "cell_type": "markdown",
   "metadata": {},
   "source": [
    "The `add_dataserver` functionality allows to set the details of the connection to the dataserver."
   ]
  },
  {
   "cell_type": "code",
   "execution_count": null,
   "metadata": {},
   "outputs": [],
   "source": [
    "device_setup.add_dataserver(host=\"111.22.33.44\", port=\"8004\")"
   ]
  },
  {
   "cell_type": "markdown",
   "metadata": {},
   "source": [
    "Note, that this information can also be provided during the above initialization step."
   ]
  },
  {
   "cell_type": "markdown",
   "metadata": {},
   "source": [
    "## Instruments"
   ]
  },
  {
   "cell_type": "markdown",
   "metadata": {},
   "source": [
    "We can add individual instruments to the device setup"
   ]
  },
  {
   "cell_type": "code",
   "execution_count": null,
   "metadata": {},
   "outputs": [],
   "source": [
    "device_setup.add_instruments(SHFQC(uid=\"device_shfqc\", address=\"dev12345\"))\n",
    "print(device_setup)"
   ]
  },
  {
   "cell_type": "markdown",
   "metadata": {},
   "source": [
    "Note, that the resulting device setup has no physical channels defined yet.\n",
    "\n",
    "## Connections\n",
    "We directly add a logical signal line in the form of `create_connection`"
   ]
  },
  {
   "cell_type": "code",
   "execution_count": null,
   "metadata": {},
   "outputs": [],
   "source": [
    "device_setup.add_connections(\n",
    "    \"device_shfqc\",\n",
    "    create_connection(to_signal=\"q0/drive_line\", ports=\"SGCHANNELS/0/OUTPUT\"),\n",
    ")\n",
    "print(device_setup)"
   ]
  },
  {
   "cell_type": "markdown",
   "metadata": {},
   "source": [
    "Note, that a logical signal line as well as the connected physical channel were added to the device setup from this connection.\n",
    "\n",
    "## Multiple Connections\n",
    "We can successively add additional connections"
   ]
  },
  {
   "cell_type": "code",
   "execution_count": null,
   "metadata": {},
   "outputs": [],
   "source": [
    "device_setup.add_connections(\n",
    "    \"device_shfqc\",\n",
    "    create_connection(to_signal=\"q1/drive_line\", ports=\"SGCHANNELS/1/OUTPUT\"),\n",
    ")\n",
    "print(device_setup)"
   ]
  },
  {
   "cell_type": "markdown",
   "metadata": {},
   "source": [
    "or add multiple connections at once"
   ]
  },
  {
   "cell_type": "code",
   "execution_count": null,
   "metadata": {},
   "outputs": [],
   "source": [
    "device_setup.add_connections(\n",
    "    \"device_shfqc\",\n",
    "    create_connection(to_signal=\"q0/measure_line\", ports=[\"QACHANNELS/0/OUTPUT\"]),\n",
    "    create_connection(to_signal=\"q0/acquire_line\", ports=[\"QACHANNELS/0/INPUT\"]),\n",
    "    create_connection(to_signal=\"q1/measure_line\", ports=[\"QACHANNELS/0/OUTPUT\"]),\n",
    "    create_connection(to_signal=\"q1/acquire_line\", ports=[\"QACHANNELS/0/INPUT\"]),\n",
    ")\n",
    "print(device_setup)"
   ]
  },
  {
   "cell_type": "markdown",
   "metadata": {},
   "source": [
    "which allows for some programmatic constructions like. "
   ]
  },
  {
   "cell_type": "code",
   "execution_count": null,
   "metadata": {},
   "outputs": [],
   "source": [
    "inds = [2, 3]\n",
    "device_setup.add_connections(\n",
    "    \"device_shfqc\",\n",
    "    *[\n",
    "        create_connection(\n",
    "            to_signal=f\"q{_}/drive_line\", ports=[f\"SGCHANNELS/{_}/OUTPUT\"]\n",
    "        )\n",
    "        for _ in inds\n",
    "    ],\n",
    "    *[\n",
    "        create_connection(to_signal=f\"q{_}/measure_line\", ports=[\"QACHANNELS/0/OUTPUT\"])\n",
    "        for _ in inds\n",
    "    ],\n",
    "    *[\n",
    "        create_connection(to_signal=f\"q{_}/acquire_line\", ports=[\"QACHANNELS/0/INPUT\"])\n",
    "        for _ in inds\n",
    "    ],\n",
    ")\n",
    "print(device_setup)"
   ]
  },
  {
   "cell_type": "markdown",
   "metadata": {},
   "source": [
    "connections can only be added if they do not exist already"
   ]
  },
  {
   "cell_type": "code",
   "execution_count": null,
   "metadata": {},
   "outputs": [],
   "source": [
    "try:\n",
    "    device_setup.add_connections(\n",
    "        \"device_shfqc\",\n",
    "        create_connection(to_signal=\"q0/drive_line\", ports=\"SGCHANNELS/0/OUTPUT\"),\n",
    "    )\n",
    "except:\n",
    "    print(\"LabOneQException as expected\")"
   ]
  },
  {
   "cell_type": "markdown",
   "metadata": {},
   "source": [
    "## Setups with Multiple Instruments\n",
    "We want to add another instrument and define logical signal lines from its ports.\n",
    "Here, we add a HDAWG to the setup as well as a PQSC."
   ]
  },
  {
   "cell_type": "code",
   "execution_count": null,
   "metadata": {},
   "outputs": [],
   "source": [
    "device_setup.add_instruments(\n",
    "    HDAWG(uid=\"device_hdawg\", address=\"dev8765\"),\n",
    "    PQSC(uid=\"device_pqsc\", address=\"dev10123\", reference_clock_source=\"internal\"),\n",
    ")"
   ]
  },
  {
   "cell_type": "markdown",
   "metadata": {},
   "source": [
    "The PQSC uses ZSYNC connections to synchronize between the SHFQC and the HDAWG.\n",
    "We can use the `add_connections` method to define also ZSYNC connectivity between instruments."
   ]
  },
  {
   "cell_type": "code",
   "execution_count": null,
   "metadata": {},
   "outputs": [],
   "source": [
    "device_setup.add_connections(\n",
    "    \"device_pqsc\",\n",
    "    create_connection(to_instrument=\"device_shfqc\", ports=\"ZSYNCS/0\"),\n",
    "    create_connection(to_instrument=\"device_hdawg\", ports=\"ZSYNCS/10\"),\n",
    ")\n",
    "print(device_setup)"
   ]
  },
  {
   "cell_type": "markdown",
   "metadata": {},
   "source": [
    "Finally, we define the additional `LogicalSignal` lines on the HDAWG "
   ]
  },
  {
   "cell_type": "code",
   "execution_count": null,
   "metadata": {},
   "outputs": [],
   "source": [
    "device_setup.add_connections(\n",
    "    \"device_hdawg\",\n",
    "    *[\n",
    "        create_connection(to_signal=f\"q{_}/flux_line\", ports=f\"SIGOUTS/{_}\")\n",
    "        for _ in range(4)\n",
    "    ],\n",
    ")\n",
    "print(device_setup)"
   ]
  },
  {
   "cell_type": "markdown",
   "metadata": {},
   "source": [
    "## Device Setup at Scale\n",
    "We can combine the above methods to define large scale device setups programmatically. "
   ]
  },
  {
   "cell_type": "code",
   "execution_count": null,
   "metadata": {},
   "outputs": [],
   "source": [
    "scaled_setup = DeviceSetup(\"my_scaled_setup\")\n",
    "scaled_setup.add_dataserver(host=\"111.22.33.44\", port=\"8004\")\n",
    "scaled_setup.add_instruments(\n",
    "    PQSC(uid=\"pqsc\", address=\"dev10001\", reference_clock_source=\"internal\")\n",
    ")"
   ]
  },
  {
   "cell_type": "markdown",
   "metadata": {},
   "source": [
    "Add drive line signals using an SHFSG for each eight qubits"
   ]
  },
  {
   "cell_type": "code",
   "execution_count": null,
   "metadata": {},
   "outputs": [],
   "source": [
    "for i in range(8):\n",
    "    scaled_setup.add_instruments(SHFSG(uid=f\"shfsg_{i}\", address=f\"dev1212{i}\"))\n",
    "    scaled_setup.add_connections(\n",
    "        \"pqsc\", create_connection(to_instrument=f\"shfsg_{i}\", ports=f\"ZSYNCS/{i}\")\n",
    "    )\n",
    "    scaled_setup.add_connections(\n",
    "        f\"shfsg_{i}\",\n",
    "        *[\n",
    "            create_connection(\n",
    "                to_signal=f\"q{i*8+_}/drive_line\", ports=f\"SGCHANNELS/{_}/OUTPUT\"\n",
    "            )\n",
    "            for _ in range(8)\n",
    "        ],\n",
    "    )"
   ]
  },
  {
   "cell_type": "markdown",
   "metadata": {},
   "source": [
    "Likewise, add flux line signals using an HDAWG for eight qubits"
   ]
  },
  {
   "cell_type": "code",
   "execution_count": null,
   "metadata": {},
   "outputs": [],
   "source": [
    "for i in range(8):\n",
    "    scaled_setup.add_instruments(HDAWG(uid=f\"hdawg_{i}\", address=f\"dev876{i}\"))\n",
    "    scaled_setup.add_connections(\n",
    "        \"pqsc\", create_connection(to_instrument=f\"hdawg_{i}\", ports=f\"ZSYNCS/{i+8}\")\n",
    "    )\n",
    "    scaled_setup.add_connections(\n",
    "        f\"hdawg_{i}\",\n",
    "        *[\n",
    "            create_connection(to_signal=f\"q{i*8+_}/flux_line\", ports=f\"SIGOUTS/{_}\")\n",
    "            for _ in range(8)\n",
    "        ],\n",
    "    )"
   ]
  },
  {
   "cell_type": "markdown",
   "metadata": {},
   "source": [
    "Define pairs of measure and acquire signals together, 8 qubits per QA unit with 4 QA units per SHFQA"
   ]
  },
  {
   "cell_type": "code",
   "execution_count": null,
   "metadata": {},
   "outputs": [],
   "source": [
    "for i in range(2):\n",
    "    scaled_setup.add_instruments(SHFQA(uid=f\"shfqa_{i}\", address=f\"dev1234{i}\"))\n",
    "    scaled_setup.add_connections(\n",
    "        \"pqsc\", create_connection(to_instrument=f\"shfqa_{i}\", ports=f\"ZSYNCS/{i+16}\")\n",
    "    )\n",
    "    for j in range(4):\n",
    "        scaled_setup.add_connections(\n",
    "            f\"shfqa_{i}\",\n",
    "            *[\n",
    "                create_connection(\n",
    "                    to_signal=f\"q{i*32+j*8+_}/measure_line\",\n",
    "                    ports=f\"QACHANNELS/{j}/OUTPUT\",\n",
    "                )\n",
    "                for _ in range(8)\n",
    "            ],\n",
    "            *[\n",
    "                create_connection(\n",
    "                    to_signal=f\"q{i*32+j*8+_}/acquire_line\",\n",
    "                    ports=f\"QACHANNELS/{j}/INPUT\",\n",
    "                )\n",
    "                for _ in range(8)\n",
    "            ],\n",
    "        )"
   ]
  },
  {
   "cell_type": "markdown",
   "metadata": {},
   "source": [
    "We verify that we have defined the logical signal lines q0 to q63, each with a drive, flux, measure, and acquire line, respectively."
   ]
  },
  {
   "cell_type": "code",
   "execution_count": null,
   "metadata": {},
   "outputs": [],
   "source": [
    "for lsg in scaled_setup.logical_signal_groups:\n",
    "    print(lsg, *scaled_setup.logical_signal_groups[lsg].logical_signals.keys())"
   ]
  },
  {
   "cell_type": "markdown",
   "metadata": {},
   "source": [
    "Note \n",
    "* Significantly higher qubit counts are only possible using a QHUB for synchronization\n",
    "* The above example assumes regularity in the wiring. Functionality to readapt existing connections e.g. to swap out two experimental lines, is not yet implemented.\n",
    "* The index logic in the above can be simplified further."
   ]
  },
  {
   "cell_type": "markdown",
   "metadata": {},
   "source": [
    "## Setups with Gen1 Instruments"
   ]
  },
  {
   "cell_type": "markdown",
   "metadata": {},
   "source": [
    "The definition of sets of gen1 instruments is done also with the above methods."
   ]
  },
  {
   "cell_type": "code",
   "execution_count": null,
   "metadata": {},
   "outputs": [],
   "source": [
    "gen1_setup = DeviceSetup(\"gen1_qzilla\")\n",
    "gen1_setup.add_dataserver(host=\"111.22.33.44\", port=\"8004\")\n",
    "gen1_setup.add_instruments(\n",
    "    HDAWG(uid=\"hdawg\", address=\"dev8768\"),\n",
    "    UHFQA(uid=\"uhfqa\", address=\"dev2890\"),\n",
    "    PQSC(uid=\"pqsc\", address=\"dev10001\", reference_clock_source=\"external\"),\n",
    ")"
   ]
  },
  {
   "cell_type": "markdown",
   "metadata": {},
   "source": [
    "We need, however to account the different connections between the instruments.\n",
    "Specifically, in such setups only the HDAWG has a ZSYNC connection to the PQSC, "
   ]
  },
  {
   "cell_type": "code",
   "execution_count": null,
   "metadata": {},
   "outputs": [],
   "source": [
    "gen1_setup.add_connections(\n",
    "    \"pqsc\", create_connection(to_instrument=\"hdawg\", ports=\"ZSYNCS/0\")\n",
    ")"
   ]
  },
  {
   "cell_type": "markdown",
   "metadata": {},
   "source": [
    "while the UHFQA instrument connects to the HDAWG via a DIOS port."
   ]
  },
  {
   "cell_type": "code",
   "execution_count": null,
   "metadata": {},
   "outputs": [],
   "source": [
    "gen1_setup.add_connections(\n",
    "    \"hdawg\", create_connection(to_instrument=\"device_uhfqa\", ports=\"DIOS/0\")\n",
    ")"
   ]
  },
  {
   "cell_type": "markdown",
   "metadata": {},
   "source": [
    "Furthermore, in such setup the I and Q signal components of the same logical signal are located at different physical ports.\n",
    "We account for this by handing a list of both physical ports to the ports argument."
   ]
  },
  {
   "cell_type": "code",
   "execution_count": null,
   "metadata": {},
   "outputs": [],
   "source": [
    "gen1_setup.add_connections(\n",
    "    \"hdawg\",\n",
    "    create_connection(to_signal=\"q0/drive_line\", ports=[\"SIGOUTS/0\", \"SIGOUTS/1\"]),\n",
    ")\n",
    "gen1_setup.add_connections(\n",
    "    \"uhfqa\",\n",
    "    create_connection(to_signal=\"q0/acquire_line\", ports=[\"SIGOUTS/0\", \"SIGOUTS/1\"]),\n",
    ")"
   ]
  }
 ],
 "metadata": {
  "kernelspec": {
   "display_name": "Python 3.10.5 64-bit ('qccs310')",
   "language": "python",
   "name": "python3"
  },
  "language_info": {
   "codemirror_mode": {
    "name": "ipython",
    "version": 3
   },
   "file_extension": ".py",
   "mimetype": "text/x-python",
   "name": "python",
   "nbconvert_exporter": "python",
   "pygments_lexer": "ipython3",
   "version": "3.10.12"
  },
  "orig_nbformat": 4,
  "vscode": {
   "interpreter": {
    "hash": "1c85a3b4c5c056083d107184758f94c1c41fe3d42fcac7760a486edd2517f152"
   }
  }
 },
 "nbformat": 4,
 "nbformat_minor": 2
}
