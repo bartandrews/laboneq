{
 "cells": [
  {
   "cell_type": "markdown",
   "metadata": {},
   "source": [
    "# Two Qubit Randomized Benchmarking in LabOne Q with pyGSTi"
   ]
  },
  {
   "cell_type": "markdown",
   "metadata": {},
   "source": [
    "In this notebook, you'll use the [pyGSTi](https://github.com/pyGSTio/pyGSTi) package to generate a two qubit randomized benchmarking experiment. You'll then export the generated experiment to [OpenQASM](https://openqasm.com/), import your OpenQASM experiment into LabOne Q, compile, and simulate the output signals."
   ]
  },
  {
   "cell_type": "markdown",
   "metadata": {},
   "source": [
    "## Python Imports"
   ]
  },
  {
   "cell_type": "code",
   "execution_count": null,
   "metadata": {},
   "outputs": [],
   "source": [
    "# LabOne Q:\n",
    "from laboneq.simple import *\n",
    "\n",
    "# plotting functionality\n",
    "from laboneq.contrib.example_helpers.plotting.plot_helpers import *\n",
    "\n",
    "# device setup and descriptor\n",
    "from laboneq._utils import id_generator\n",
    "from laboneq.contrib.example_helpers.generate_descriptor import generate_descriptor\n",
    "\n",
    "# LabOne Q OpenQASM Tools\n",
    "from laboneq.openqasm3.gate_store import GateStore\n",
    "\n",
    "# qiskit\n",
    "from qiskit import qasm3, transpile\n",
    "\n",
    "# pyGSTi\n",
    "import pygsti\n",
    "from pygsti.processors import QubitProcessorSpec as QPS\n",
    "from pygsti.processors import CliffordCompilationRules as CCR\n",
    "\n",
    "# additional imports\n",
    "from math import pi"
   ]
  },
  {
   "cell_type": "markdown",
   "metadata": {},
   "source": [
    "## pyGSTi Experiment Generation"
   ]
  },
  {
   "cell_type": "markdown",
   "metadata": {},
   "source": [
    "You'll start by creating a Clifford RB experiment in a similar fashion as done in the pyGSTi Tutorial [here](https://github.com/pyGSTio/pyGSTi/blob/master/jupyter_notebooks/Tutorials/algorithms/RB-CliffordRB.ipynb). \n",
    "\n",
    "Note that mosst circuits that can be generated in pyGSTi and converted to OpenQASM could be adapted to be run in a similar way! "
   ]
  },
  {
   "cell_type": "code",
   "execution_count": null,
   "metadata": {},
   "outputs": [],
   "source": [
    "# Define pyGSTi 2 Qubit RB circuit\n",
    "\n",
    "n_qubits = 2\n",
    "qubit_labels = [\"Q0\", \"Q1\"]\n",
    "gate_names = [\"Gxpi2\", \"Gxmpi2\", \"Gypi2\", \"Gympi2\", \"Gcphase\"]\n",
    "availability = {\"Gcphase\": [(\"Q0\", \"Q1\")]}\n",
    "\n",
    "# Uncomment below for more qubits or to use a different set of basis gates\n",
    "# n_qubits = 4\n",
    "# qubit_labels = ['Q0','Q1','Q2','Q3']\n",
    "# gate_names = ['Gxpi2', 'Gxmpi2', 'Gypi2', 'Gympi2', 'Gcnot']\n",
    "# availability = {'Gcphase':[('Q0','Q1'), ('Q1','Q2'), ('Q2','Q3'), ('Q3','Q0')]}\n",
    "\n",
    "pspec = QPS(n_qubits, gate_names, availability=availability, qubit_labels=qubit_labels)\n",
    "\n",
    "compilations = {\n",
    "    \"absolute\": CCR.create_standard(\n",
    "        pspec, \"absolute\", (\"paulis\", \"1Qcliffords\"), verbosity=0\n",
    "    ),\n",
    "    \"paulieq\": CCR.create_standard(\n",
    "        pspec, \"paulieq\", (\"1Qcliffords\", \"allcnots\"), verbosity=0\n",
    "    ),\n",
    "}\n",
    "\n",
    "depths = [20, 50]\n",
    "circuits_per_depth = 2\n",
    "\n",
    "qubits = [\"Q0\", \"Q1\"]\n",
    "\n",
    "randomizeout = True\n",
    "citerations = 20"
   ]
  },
  {
   "cell_type": "markdown",
   "metadata": {},
   "source": [
    "You'll then compile the circuits for your Clifford RB experiment and print them."
   ]
  },
  {
   "cell_type": "code",
   "execution_count": null,
   "metadata": {},
   "outputs": [],
   "source": [
    "design = pygsti.protocols.CliffordRBDesign(\n",
    "    pspec,\n",
    "    compilations,\n",
    "    depths,\n",
    "    circuits_per_depth,\n",
    "    qubit_labels=qubits,\n",
    "    randomizeout=randomizeout,\n",
    "    citerations=citerations,\n",
    ")\n",
    "\n",
    "circuits_rb = design.all_circuits_needing_data\n",
    "\n",
    "for circuit in circuits_rb:\n",
    "    print(circuit)"
   ]
  },
  {
   "cell_type": "markdown",
   "metadata": {},
   "source": [
    "## pyGSTi Output to QASM 3 Sanitization"
   ]
  },
  {
   "cell_type": "markdown",
   "metadata": {},
   "source": [
    "Here, you'll define a function to output the above circuit into OpenQASM. \n",
    "\n",
    "Note: while pyGSTi can output directly into OpenQASM 2, Labone Q imports OpenQASM 3, so we take care of that in this function as well."
   ]
  },
  {
   "cell_type": "code",
   "execution_count": null,
   "metadata": {},
   "outputs": [],
   "source": [
    "def sanitize_pygsti_output(\n",
    "    circuit=circuits_rb,\n",
    "    pygsti_standard_gates=\"x-sx-rz\",\n",
    "    qasm_basis_gates=(\"id\", \"sx\", \"x\", \"rz\", \"cx\"),\n",
    "    # qasm_basis_gates=(\"rx\",\"ry\",\"rz\",\"cz\"),\n",
    "):\n",
    "    qasm2_circuit = []\n",
    "\n",
    "    for circuit in circuits_rb:\n",
    "        # pyGSTi standard gates are \"u3\" and \"x-sx-rz\"\"\n",
    "        qasm2_circuit.append(\n",
    "            circuit.convert_to_openqasm(standard_gates_version=pygsti_standard_gates)\n",
    "            .replace(\"OPENQASM 2.0;\", \"OPENQASM 3.0;\")\n",
    "            .replace('include \"qelib1.inc\";', 'include \"stdgates.inc\";')\n",
    "            # Support PyGSTI >= 0.9.12 by removing opaque zero delay\n",
    "            # gates:\n",
    "            .replace(\"opaque delay(t) q;\", \"\")\n",
    "            .replace(\"delay(0) q[0];\", \"\")\n",
    "            .replace(\"delay(0) q[1];\", \"\")\n",
    "        )\n",
    "\n",
    "    qasm3_circuit = []\n",
    "\n",
    "    for entry in qasm2_circuit:\n",
    "        qasm3_circuit.append(\n",
    "            qasm3.Exporter().dumps(\n",
    "                transpile(\n",
    "                    qasm3.loads(entry),\n",
    "                    basis_gates=qasm_basis_gates,\n",
    "                )\n",
    "            )\n",
    "        )\n",
    "\n",
    "    return qasm3_circuit"
   ]
  },
  {
   "cell_type": "markdown",
   "metadata": {},
   "source": [
    "You'll now output your OpenQASM 3 circuits as a list and print the first one."
   ]
  },
  {
   "cell_type": "code",
   "execution_count": null,
   "metadata": {},
   "outputs": [],
   "source": [
    "program_list = sanitize_pygsti_output(\n",
    "    qasm_basis_gates=[\"id\", \"sx\", \"x\", \"rz\", \"cx\"],\n",
    ")\n",
    "\n",
    "# Prtint the first circuit in the list\n",
    "print(program_list[0])"
   ]
  },
  {
   "cell_type": "markdown",
   "metadata": {},
   "source": [
    "## LabOne Q Experiment"
   ]
  },
  {
   "cell_type": "markdown",
   "metadata": {},
   "source": [
    "### Setup, Calibration & Configuration"
   ]
  },
  {
   "cell_type": "markdown",
   "metadata": {},
   "source": [
    "You'll define your device setup and calibration below using Qubits to calibrate your devices."
   ]
  },
  {
   "cell_type": "code",
   "execution_count": null,
   "metadata": {},
   "outputs": [],
   "source": [
    "generate_descriptor(\n",
    "    pqsc=[\"DEV10056\"],\n",
    "    shfqc_6=[\"DEV12108\"],\n",
    "    hdawg_8=[\"DEV8138\"],\n",
    "    number_data_qubits=3,\n",
    "    number_flux_lines=3,\n",
    "    multiplex=True,\n",
    "    number_multiplex=3,\n",
    "    save=True,\n",
    "    filename=\"SeaCucumber_SHF_HD_PQSC\",\n",
    "    include_cr_lines=True,\n",
    ")\n",
    "\n",
    "device_setup = DeviceSetup.from_yaml(\n",
    "    filepath=\"./Descriptors/SeaCucumber_SHF_HD_PQSC.yaml\",\n",
    "    server_host=\"ip_address\",\n",
    "    server_port=\"8004\",\n",
    "    setup_name=\"my_setup_name\",\n",
    ")"
   ]
  },
  {
   "cell_type": "code",
   "execution_count": null,
   "metadata": {},
   "outputs": [],
   "source": [
    "q0 = Transmon.from_logical_signal_group(\n",
    "    \"q0\",\n",
    "    lsg=device_setup.logical_signal_groups[\"q0\"],\n",
    "    parameters=TransmonParameters(\n",
    "        resonance_frequency_ge=6.15e9,\n",
    "        resonance_frequency_ef=5.85e9,\n",
    "        drive_lo_frequency=6.0e9,\n",
    "        readout_resonator_frequency=6.4e9,\n",
    "        readout_lo_frequency=6.6e9,\n",
    "        user_defined={\n",
    "            \"cross_resonance_frequency\": 200e6,\n",
    "            \"amplitude_pi\": 0.5,\n",
    "            \"pulse_length\": 50e-9,\n",
    "            \"readout_len\": 5e-7,\n",
    "            \"readout_amp\": 0.2,\n",
    "            \"reset_length\": 200e-9,\n",
    "        },\n",
    "    ),\n",
    ")\n",
    "\n",
    "q1 = Transmon.from_logical_signal_group(\n",
    "    \"q1\",\n",
    "    lsg=device_setup.logical_signal_groups[\"q1\"],\n",
    "    parameters=TransmonParameters(\n",
    "        resonance_frequency_ge=6.25e9,\n",
    "        resonance_frequency_ef=5.95e9,\n",
    "        drive_lo_frequency=6.0e9,\n",
    "        readout_resonator_frequency=6.4e9,\n",
    "        readout_lo_frequency=6.6e9,\n",
    "        user_defined={\n",
    "            \"cross_resonance_frequency\": -200e6,\n",
    "            \"amplitude_pi\": 0.6,\n",
    "            \"pulse_length\": 50e-9,\n",
    "            \"readout_len\": 5e-7,\n",
    "            \"readout_amp\": 0.2,\n",
    "            \"reset_length\": 200e-9,\n",
    "        },\n",
    "    ),\n",
    ")\n",
    "\n",
    "qubits = [q0, q1]\n",
    "for qubit in qubits:\n",
    "    device_setup.set_calibration(qubit.calibration())\n",
    "    # set calibration of cross resonance signal lines - not currently included in TransmonQubit calibration method\n",
    "    device_setup.logical_signal_groups[qubit.uid].logical_signals[\n",
    "        \"drive_line_cr\"\n",
    "    ].calibration = SignalCalibration(\n",
    "        oscillator=Oscillator(\n",
    "            frequency=qubit.parameters.user_defined[\"cross_resonance_frequency\"],\n",
    "            modulation_type=ModulationType.HARDWARE,\n",
    "        )\n",
    "    )"
   ]
  },
  {
   "cell_type": "markdown",
   "metadata": {},
   "source": [
    "### Transpilation Support (Gate Definitions)"
   ]
  },
  {
   "cell_type": "markdown",
   "metadata": {},
   "source": [
    "You'll now define functions to generate pulses and gates from the OpenQASM program text."
   ]
  },
  {
   "cell_type": "code",
   "execution_count": null,
   "metadata": {},
   "outputs": [],
   "source": [
    "def drive_pulse(qubit: Qubit, label, length=50e-9, amplitude=0.6):\n",
    "    \"\"\"Return a drive pulse for the given qubit.\n",
    "\n",
    "    In practice different drive pulses would be specified for each qubit and operation.\n",
    "    \"\"\"\n",
    "    return pulse_library.drag(\n",
    "        uid=f\"{qubit.uid}_{label}\",\n",
    "        length=qubit.parameters.user_defined[\"pulse_length\"],\n",
    "        amplitude=qubit.parameters.user_defined[\"amplitude_pi\"],\n",
    "    )\n",
    "\n",
    "\n",
    "def drive_pulse_root(qubit: Qubit, label, length=50e-9, amplitude=0.6):\n",
    "    \"\"\"Return a root drive pulse for the given qubit.\n",
    "\n",
    "    In practice different drive pulses would be specified for each qubit and operation.\n",
    "    \"\"\"\n",
    "    return pulse_library.drag(\n",
    "        uid=f\"{qubit.uid}_{label}\",\n",
    "        length=qubit.parameters.user_defined[\"pulse_length\"],\n",
    "        amplitude=(qubit.parameters.user_defined[\"amplitude_pi\"]) / 2,\n",
    "    )\n",
    "\n",
    "\n",
    "def rz(qubit: Qubit):\n",
    "    \"\"\"Return a parameterized Rz gate for the specified qubit.\n",
    "\n",
    "    The gate is a function that takes the angle to rotate and\n",
    "    returns a LabOne Q section that performs the rotation.\n",
    "    \"\"\"\n",
    "\n",
    "    def rz_gate(angle: float):\n",
    "        \"\"\"Rz(theta).\n",
    "\n",
    "        Theta is in radians - implements a virtual z-gate\n",
    "        \"\"\"\n",
    "        gate = Section(uid=id_generator(f\"p_{qubit.uid}_rz_{int(180 * angle / pi)}\"))\n",
    "        gate.play(\n",
    "            signal=qubit.signals[\"drive\"],\n",
    "            pulse=None,\n",
    "            increment_oscillator_phase=angle,\n",
    "        )\n",
    "        return gate\n",
    "\n",
    "    return rz_gate\n",
    "\n",
    "\n",
    "def measurement(qubit: Qubit):\n",
    "    \"\"\"Return a measurement operation of the specified qubit.\n",
    "\n",
    "    The operation is a function that takes the measurement handle (a string)\n",
    "    and returns a LabOne Q section that performs the measurement.\n",
    "    \"\"\"\n",
    "\n",
    "    def measurement_gate(handle: str):\n",
    "        \"\"\"Perform a measurement.\n",
    "\n",
    "        Handle is the name of where to store the measurement result. E.g. \"meas[0]\".\n",
    "        \"\"\"\n",
    "        measure_pulse = pulse_library.gaussian_square(\n",
    "            uid=f\"{qubit.uid}_readout_pulse\",\n",
    "            length=qubit.parameters.user_defined[\"readout_len\"],\n",
    "            amplitude=qubit.parameters.user_defined[\"readout_amp\"],\n",
    "        )\n",
    "        integration_kernel = pulse_library.const(\n",
    "            uid=f\"{qubit.uid}_integration_kernel\",\n",
    "            length=qubit.parameters.user_defined[\"readout_len\"],\n",
    "        )\n",
    "\n",
    "        gate = Section(uid=id_generator(f\"meas_{qubit.uid}_{handle}\"))\n",
    "        gate.reserve(signal=qubit.signals[\"drive\"])\n",
    "        gate.play(signal=qubit.signals[\"measure\"], pulse=measure_pulse)\n",
    "        gate.acquire(\n",
    "            signal=qubit.signals[\"acquire\"],\n",
    "            handle=handle,\n",
    "            kernel=integration_kernel,\n",
    "        )\n",
    "        return gate\n",
    "\n",
    "    return measurement_gate\n",
    "\n",
    "\n",
    "def cx(control: Qubit, target: Qubit):\n",
    "    \"\"\"Return a controlled X gate for the specified control and target qubits.\n",
    "\n",
    "    The CX gate function takes no arguments and returns a LabOne Q section that performs\n",
    "    the controllex X gate.\n",
    "    \"\"\"\n",
    "\n",
    "    def cx_gate():\n",
    "        cx_id = f\"cx_{control.uid}_{target.uid}\"\n",
    "\n",
    "        gate = Section(uid=id_generator(cx_id))\n",
    "\n",
    "        # define X pulses for target and control\n",
    "        x180_pulse_control = drive_pulse(control, label=\"x180\")\n",
    "        x180_pulse_target = drive_pulse(target, label=\"x180\")\n",
    "\n",
    "        # define cancellation pulses for target and control\n",
    "        cancellation_control_n = pulse_library.gaussian_square(uid=\"CR-\")\n",
    "        cancellation_control_p = pulse_library.gaussian_square(uid=\"CR+\")\n",
    "        cancellation_target_p = pulse_library.gaussian_square(uid=\"q1+\")\n",
    "        cancellation_target_n = pulse_library.gaussian_square(uid=\"q1-\")\n",
    "\n",
    "        # play X pulses on both target and control\n",
    "        x180_both = Section(uid=id_generator(f\"{cx_id}_x_both\"))\n",
    "        x180_both.play(signal=control.signals[\"drive\"], pulse=x180_pulse_control)\n",
    "        x180_both.play(signal=target.signals[\"drive\"], pulse=x180_pulse_target)\n",
    "        gate.add(x180_both)\n",
    "\n",
    "        # First cross-resonance component\n",
    "        cancellation_p = Section(\n",
    "            uid=id_generator(f\"{cx_id}_canc_p\"), play_after=x180_both.uid\n",
    "        )\n",
    "        cancellation_p.play(signal=target.signals[\"drive\"], pulse=cancellation_target_p)\n",
    "        cancellation_p.play(\n",
    "            signal=control.signals[\"flux\"], pulse=cancellation_control_n\n",
    "        )\n",
    "        gate.add(cancellation_p)\n",
    "\n",
    "        # play X pulse on control\n",
    "        x180_control = Section(\n",
    "            uid=id_generator(f\"{cx_id}_x_q0\"), play_after=cancellation_p.uid\n",
    "        )\n",
    "        x180_control.play(signal=control.signals[\"drive\"], pulse=x180_pulse_control)\n",
    "        gate.add(x180_control)\n",
    "\n",
    "        # Second cross-resonance component\n",
    "        cancellation_n = Section(\n",
    "            uid=id_generator(f\"cx_{cx_id}_canc_n\"), play_after=x180_control.uid\n",
    "        )\n",
    "        cancellation_n.play(signal=target.signals[\"drive\"], pulse=cancellation_target_n)\n",
    "        cancellation_n.play(\n",
    "            signal=control.signals[\"flux\"], pulse=cancellation_control_p\n",
    "        )\n",
    "        gate.add(cancellation_n)\n",
    "\n",
    "        return gate\n",
    "\n",
    "    return cx_gate"
   ]
  },
  {
   "cell_type": "markdown",
   "metadata": {},
   "source": [
    "### Two Qubit RB"
   ]
  },
  {
   "cell_type": "markdown",
   "metadata": {},
   "source": [
    "You're almost ready to run your experiment!"
   ]
  },
  {
   "cell_type": "markdown",
   "metadata": {},
   "source": [
    "#### Connect to Session"
   ]
  },
  {
   "cell_type": "markdown",
   "metadata": {},
   "source": [
    "You'll need to start a LabOne Q session. Here, you'll run the session in emulation mode. If you've modified the descriptor to run on your own devices above, you could connect to them here instead."
   ]
  },
  {
   "cell_type": "code",
   "execution_count": null,
   "metadata": {},
   "outputs": [],
   "source": [
    "my_session = Session(device_setup=device_setup)\n",
    "my_session.connect(do_emulation=True)"
   ]
  },
  {
   "cell_type": "markdown",
   "metadata": {},
   "source": [
    "#### Define Gates, Load QASM 3 Program, and Go!"
   ]
  },
  {
   "cell_type": "markdown",
   "metadata": {},
   "source": [
    "Now, you'll map your OpenQASM gates to signals produced on the instruments using `register_gate` and `register_gate_section` functions. \n",
    "\n",
    "Once you've done that, you can compile your experiment and plot the output using the LabOne Q simulator."
   ]
  },
  {
   "cell_type": "code",
   "execution_count": null,
   "metadata": {},
   "outputs": [],
   "source": [
    "gate_store = GateStore()\n",
    "\n",
    "# Note: the below may need to be updated to match the\n",
    "# names of your qubits from your QASM circuit!\n",
    "qubit_map = {\"q[0]\": q0, \"q[1]\": q1}\n",
    "\n",
    "# Single qubit gates:\n",
    "\n",
    "for oq3_qubit, l1q_qubit in qubit_map.items():\n",
    "    gate_store.register_gate(\n",
    "        \"sx\",\n",
    "        oq3_qubit,\n",
    "        drive_pulse_root(l1q_qubit, label=\"sx\"),\n",
    "        signal=l1q_qubit.signals[\"drive\"],\n",
    "    )\n",
    "    gate_store.register_gate(\n",
    "        \"x\",\n",
    "        oq3_qubit,\n",
    "        drive_pulse(l1q_qubit, label=\"x\"),\n",
    "        signal=l1q_qubit.signals[\"drive\"],\n",
    "    )\n",
    "    gate_store.register_gate_section(\"rz\", (oq3_qubit,), rz(l1q_qubit))\n",
    "    gate_store.register_gate_section(\"measure\", (oq3_qubit,), measurement(l1q_qubit))\n",
    "\n",
    "# Two qubit gates:\n",
    "gate_store.register_gate_section(\"cx\", (\"q[0]\", \"q[1]\"), cx(q0, q1))\n",
    "gate_store.register_gate_section(\"cx\", (\"q[1]\", \"q[0]\"), cx(q1, q0))"
   ]
  },
  {
   "cell_type": "code",
   "execution_count": null,
   "metadata": {},
   "outputs": [],
   "source": [
    "# Compile Experiments for desired circuit in the RB circuits list\n",
    "# Could also compile all in a for loop over list of circuits, if desired\n",
    "exp = exp_from_qasm(program_list[0], qubits=qubit_map, gate_store=gate_store)\n",
    "compiled_exp = my_session.compile(exp)\n",
    "\n",
    "plot_simulation(compiled_exp, length=100e-6)\n",
    "\n",
    "my_results = my_session.run(compiled_exp)"
   ]
  },
  {
   "cell_type": "markdown",
   "metadata": {},
   "source": [
    "#### Draw the circuit from above"
   ]
  },
  {
   "cell_type": "markdown",
   "metadata": {},
   "source": [
    "You can also draw the circuit corresponding to the simulated signals you just produced!"
   ]
  },
  {
   "cell_type": "code",
   "execution_count": null,
   "metadata": {},
   "outputs": [],
   "source": [
    "circuit_to_draw_0 = qasm3.loads(program_list[0])\n",
    "circuit_to_draw_0.draw()"
   ]
  },
  {
   "cell_type": "markdown",
   "metadata": {},
   "source": [
    "#### Compile and draw more circuits in the list"
   ]
  },
  {
   "cell_type": "markdown",
   "metadata": {},
   "source": [
    "You can do this for any circuit you've generated in the list."
   ]
  },
  {
   "cell_type": "code",
   "execution_count": null,
   "metadata": {},
   "outputs": [],
   "source": [
    "# Compile Experiments\n",
    "exp_1 = exp_from_qasm(program_list[1], qubits=qubit_map, gate_store=gate_store)\n",
    "compiled_exp_1 = my_session.compile(exp_1)\n",
    "\n",
    "plot_simulation(compiled_exp_1, length=100e-6)"
   ]
  },
  {
   "cell_type": "code",
   "execution_count": null,
   "metadata": {},
   "outputs": [],
   "source": [
    "circuit_to_draw_1 = qasm3.loads(program_list[1])\n",
    "circuit_to_draw_1.draw()"
   ]
  },
  {
   "cell_type": "code",
   "execution_count": null,
   "metadata": {},
   "outputs": [],
   "source": []
  }
 ],
 "metadata": {
  "kernelspec": {
   "display_name": "zi-py310",
   "language": "python",
   "name": "python3"
  },
  "language_info": {
   "codemirror_mode": {
    "name": "ipython",
    "version": 3
   },
   "file_extension": ".py",
   "mimetype": "text/x-python",
   "name": "python",
   "nbconvert_exporter": "python",
   "pygments_lexer": "ipython3",
   "version": "3.10.10"
  }
 },
 "nbformat": 4,
 "nbformat_minor": 4
}
