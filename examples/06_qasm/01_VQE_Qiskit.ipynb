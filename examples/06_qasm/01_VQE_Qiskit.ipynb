{
 "cells": [
  {
   "cell_type": "markdown",
   "id": "16b5004b",
   "metadata": {},
   "source": [
    "# VQE with LabOne Q and Qiskit"
   ]
  },
  {
   "cell_type": "markdown",
   "id": "aff8200e",
   "metadata": {},
   "source": [
    "A demonstration of first steps towards performing VQE with LabOne Q.\n",
    "\n",
    "Qiskit is used as a convenient way to prepare the parameterized ansatz circuit, which is then converted to OpenQASM which is imported and executed by LabOne Q."
   ]
  },
  {
   "cell_type": "markdown",
   "id": "60650052",
   "metadata": {},
   "source": [
    "## Imports"
   ]
  },
  {
   "cell_type": "code",
   "execution_count": null,
   "id": "86b39817",
   "metadata": {},
   "outputs": [],
   "source": [
    "# Python standard library and numpy:\n",
    "\n",
    "import numpy as np\n",
    "from qiskit import QuantumCircuit\n",
    "\n",
    "# Qiskit:\n",
    "from qiskit import qasm3 as q3\n",
    "from qiskit.circuit.classicalregister import ClassicalRegister\n",
    "from qiskit.circuit.library import TwoLocal\n",
    "\n",
    "from laboneq._utils import id_generator\n",
    "from laboneq.contrib.example_helpers.generate_example_datastore import (\n",
    "    generate_example_datastore,\n",
    "    get_first_named_entry,\n",
    ")\n",
    "from laboneq.contrib.example_helpers.plotting.plot_helpers import plot_simulation\n",
    "from laboneq.openqasm3.gate_store import GateStore\n",
    "from laboneq.pulse_sheet_viewer.pulse_sheet_viewer import show_pulse_sheet\n",
    "\n",
    "# LabOne Q:\n",
    "from laboneq.simple import *"
   ]
  },
  {
   "cell_type": "code",
   "execution_count": null,
   "id": "7853a6f1",
   "metadata": {},
   "outputs": [],
   "source": [
    "# Build an in-memory data store with device setup and qubit parameters for the\n",
    "# example notebooks\n",
    "setup_db = generate_example_datastore(path=\"\", filename=\":memory:\")"
   ]
  },
  {
   "attachments": {},
   "cell_type": "markdown",
   "id": "d988c820",
   "metadata": {},
   "source": [
    "## Device setup & physical qubit parameters (LabOne Q)\n",
    "\n",
    "Here we initialize the QCCS control system and set the calibration properties based on a number of qubits we define"
   ]
  },
  {
   "cell_type": "code",
   "execution_count": null,
   "id": "a63199aa",
   "metadata": {},
   "outputs": [],
   "source": [
    "# load a calibrated device setup from the dummy database\n",
    "device_setup = get_first_named_entry(\n",
    "    db=setup_db,\n",
    "    name=\"12_tuneable_qubit_setup_shfsg_shfqa_shfqc_hdawg_pqsc_calibrated\",\n",
    ")\n",
    "\n",
    "[q0, q1] = device_setup.qubits[:2]\n",
    "\n",
    "use_emulation = True"
   ]
  },
  {
   "attachments": {},
   "cell_type": "markdown",
   "id": "5e0e265d",
   "metadata": {},
   "source": [
    "## Define the physical gate operations (LabOne Q)\n",
    "\n",
    "Define the gate ($R_y$, $R_z$, $CX$) and measurement operations for each qubit.\n",
    "\n",
    "A gate here is a function that returns an LabOne Q section that performs the specified operation. In the case of rotation gates, the gate accepts a parameter that specifies the angle to rotate through.\n",
    "\n",
    "The implementations here are just for demonstration purposes. Real implementations would depend on the physical system being controlled and might varying according to the individual qubit being controlled."
   ]
  },
  {
   "cell_type": "code",
   "execution_count": null,
   "id": "2e99f3c5",
   "metadata": {},
   "outputs": [],
   "source": [
    "def drive_pulse(qubit: Qubit, label, length=50e-9, amplitude=0.6):\n",
    "    \"\"\"Return a drive pulse for the given qubit.\n",
    "\n",
    "    In practice different drive pulses would be specified for each qubit and operation.\n",
    "    \"\"\"\n",
    "    return pulse_library.drag(\n",
    "        uid=f\"{qubit.uid}_{label}\",\n",
    "        length=qubit.parameters.user_defined[\"pulse_length\"],\n",
    "        amplitude=qubit.parameters.user_defined[\"amplitude_pi\"],\n",
    "    )"
   ]
  },
  {
   "cell_type": "code",
   "execution_count": null,
   "id": "47148e83",
   "metadata": {},
   "outputs": [],
   "source": [
    "def ry(qubit: Qubit):\n",
    "    \"\"\"Return a parameterized Ry gate for the specified qubit.\n",
    "\n",
    "    The gate is a function that takes the angle to rotate and\n",
    "    returns a LabOne Q section that performs the rotation.\n",
    "    \"\"\"\n",
    "\n",
    "    def ry_gate(angle):\n",
    "        \"\"\"Ry(theta).\n",
    "\n",
    "        Theta is in radians - pulse amplitude is adjusted according to the chosen angle\n",
    "        \"\"\"\n",
    "        gate = Section(uid=id_generator(f\"p_{qubit.uid}_ry_{int(180 * angle / np.pi)}\"))\n",
    "        amplitude = qubit.parameters.user_defined[\"amplitude_pi\"] * angle / np.pi\n",
    "        gate.play(\n",
    "            signal=qubit.signals[\"drive\"],\n",
    "            pulse=drive_pulse(\n",
    "                qubit,\n",
    "                \"ry\",\n",
    "                length=qubit.parameters.user_defined[\"pulse_length\"],\n",
    "                amplitude=amplitude,\n",
    "            ),\n",
    "            phase=np.pi / 2,\n",
    "        )\n",
    "        return gate\n",
    "\n",
    "    return ry_gate"
   ]
  },
  {
   "cell_type": "code",
   "execution_count": null,
   "id": "33b1a53a",
   "metadata": {},
   "outputs": [],
   "source": [
    "def rz(qubit: Qubit):\n",
    "    \"\"\"Return a parameterized Rz gate for the specified qubit.\n",
    "\n",
    "    The gate is a function that takes the angle to rotate and\n",
    "    returns a LabOne Q section that performs the rotation.\n",
    "    \"\"\"\n",
    "\n",
    "    def rz_gate(angle: float):\n",
    "        \"\"\"Rz(theta).\n",
    "\n",
    "        Theta is in radians - implements a virtual z-gate\n",
    "        \"\"\"\n",
    "        gate = Section(uid=id_generator(f\"p_{qubit.uid}_rz_{int(180 * angle / np.pi)}\"))\n",
    "        gate.play(\n",
    "            signal=qubit.signals[\"drive\"],\n",
    "            pulse=None,\n",
    "            increment_oscillator_phase=angle,\n",
    "        )\n",
    "        return gate\n",
    "\n",
    "    return rz_gate"
   ]
  },
  {
   "cell_type": "code",
   "execution_count": null,
   "id": "a53586e0",
   "metadata": {},
   "outputs": [],
   "source": [
    "q0.parameters.user_defined"
   ]
  },
  {
   "cell_type": "code",
   "execution_count": null,
   "id": "e082c5a7",
   "metadata": {},
   "outputs": [],
   "source": [
    "def measurement(qubit: Qubit):\n",
    "    \"\"\"Return a measurement operation of the specified qubit.\n",
    "\n",
    "    The operation is a function that takes the measurement handle (a string)\n",
    "    and returns a LabOne Q section that performs the measurement.\n",
    "    \"\"\"\n",
    "\n",
    "    def measurement_gate(handle: str):\n",
    "        \"\"\"Perform a measurement.\n",
    "\n",
    "        Handle is the name of where to store the measurement result. E.g. \"meas[0]\".\n",
    "        \"\"\"\n",
    "        measure_pulse = pulse_library.gaussian_square(\n",
    "            uid=f\"{qubit.uid}_readout_pulse\",\n",
    "            length=qubit.parameters.user_defined[\"readout_length\"],\n",
    "            amplitude=qubit.parameters.user_defined[\"readout_amplitude\"],\n",
    "        )\n",
    "        integration_kernel = pulse_library.const(\n",
    "            uid=f\"{qubit.uid}_integration_kernel\",\n",
    "            length=qubit.parameters.user_defined[\"readout_length\"],\n",
    "        )\n",
    "\n",
    "        gate = Section(uid=id_generator(f\"meas_{qubit.uid}_{handle}\"))\n",
    "        gate.reserve(signal=qubit.signals[\"drive\"])\n",
    "        gate.play(signal=qubit.signals[\"measure\"], pulse=measure_pulse)\n",
    "        gate.acquire(\n",
    "            signal=qubit.signals[\"acquire\"],\n",
    "            handle=handle,\n",
    "            kernel=integration_kernel,\n",
    "        )\n",
    "        return gate\n",
    "\n",
    "    return measurement_gate"
   ]
  },
  {
   "cell_type": "code",
   "execution_count": null,
   "id": "0e9635aa",
   "metadata": {},
   "outputs": [],
   "source": [
    "def cx(control: Qubit, target: Qubit):\n",
    "    \"\"\"Return a controlled X gate for the specified control and target qubits.\n",
    "\n",
    "    The CX gate function takes no arguments and returns a LabOne Q section that performs\n",
    "    the controllex X gate.\n",
    "    \"\"\"\n",
    "\n",
    "    def cx_gate():\n",
    "        cx_id = f\"cx_{control.uid}_{target.uid}\"\n",
    "\n",
    "        gate = Section(uid=id_generator(cx_id))\n",
    "\n",
    "        # define X pulses for target and control\n",
    "        x180_pulse_control = drive_pulse(control, label=\"x180\")\n",
    "        x180_pulse_target = drive_pulse(target, label=\"x180\")\n",
    "\n",
    "        # define cancellation pulses for target and control\n",
    "        cancellation_control_n = pulse_library.gaussian_square(uid=\"CR-\")\n",
    "        cancellation_control_p = pulse_library.gaussian_square(uid=\"CR+\")\n",
    "        cancellation_target_p = pulse_library.gaussian_square(uid=\"q1+\")\n",
    "        cancellation_target_n = pulse_library.gaussian_square(uid=\"q1-\")\n",
    "\n",
    "        # play X pulses on both target and control\n",
    "        x180_both = Section(uid=id_generator(f\"{cx_id}_x_both\"))\n",
    "        x180_both.play(signal=control.signals[\"drive\"], pulse=x180_pulse_control)\n",
    "        x180_both.play(signal=target.signals[\"drive\"], pulse=x180_pulse_target)\n",
    "        gate.add(x180_both)\n",
    "\n",
    "        # First cross-resonance component\n",
    "        cancellation_p = Section(\n",
    "            uid=id_generator(f\"{cx_id}_canc_p\"), play_after=x180_both\n",
    "        )\n",
    "        cancellation_p.play(signal=target.signals[\"drive\"], pulse=cancellation_target_p)\n",
    "        cancellation_p.play(\n",
    "            signal=control.signals[\"flux\"], pulse=cancellation_control_n\n",
    "        )\n",
    "        gate.add(cancellation_p)\n",
    "\n",
    "        # play X pulse on control\n",
    "        x180_control = Section(\n",
    "            uid=id_generator(f\"{cx_id}_x_q0\"), play_after=cancellation_p\n",
    "        )\n",
    "        x180_control.play(signal=control.signals[\"drive\"], pulse=x180_pulse_control)\n",
    "        gate.add(x180_control)\n",
    "\n",
    "        # Second cross-resonance component\n",
    "        cancellation_n = Section(\n",
    "            uid=id_generator(f\"cx_{cx_id}_canc_n\"), play_after=x180_control\n",
    "        )\n",
    "        cancellation_n.play(signal=target.signals[\"drive\"], pulse=cancellation_target_n)\n",
    "        cancellation_n.play(\n",
    "            signal=control.signals[\"flux\"], pulse=cancellation_control_p\n",
    "        )\n",
    "        gate.add(cancellation_n)\n",
    "\n",
    "        return gate\n",
    "\n",
    "    return cx_gate"
   ]
  },
  {
   "cell_type": "code",
   "execution_count": null,
   "id": "49db8340-8c74-4870-9cc1-d23e95f95bc2",
   "metadata": {
    "tags": []
   },
   "outputs": [],
   "source": [
    "def reset(qubit: Qubit, reset_pulse):\n",
    "    \"\"\"Reset the specified qubit to the ground state with the supplied reset pulse.\n",
    "\n",
    "    The reset gate function takes no arguments and returns a LabOne Q section that performs\n",
    "    the reset.\n",
    "    \"\"\"\n",
    "\n",
    "    def reset_gate():\n",
    "        sig = qubit.signals\n",
    "        # Reset Section\n",
    "        reset = Section(uid=f\"{qubit.uid}_reset\")\n",
    "        # qubit state readout\n",
    "        readout = measurement(qubit)(f\"{qubit.uid}_qubit_state\")\n",
    "        # delay after measurement\n",
    "        readout.delay(\n",
    "            signal=sig[\"acquire\"],\n",
    "            time=qubit.parameters.user_defined[\"reset_delay_length\"],\n",
    "        )\n",
    "        # real-time feedback, fetching the measurement data identified by handle locally from the QA unit of the SHFQC\n",
    "        match_case = Match(\n",
    "            uid=f\"{qubit.uid}_feedback\",\n",
    "            handle=f\"{qubit.uid}_qubit_state\",\n",
    "            play_after=readout,\n",
    "        )\n",
    "        # measurement result 0 - ground state\n",
    "        case_0 = Case(uid=f\"{qubit.uid}_0_Case\", state=0)\n",
    "        case_0.play(signal=sig[\"drive\"], pulse=reset_pulse, amplitude=0.01)\n",
    "        # measurement result 1 - excited state\n",
    "        case_1 = Case(uid=f\"{qubit.uid}_1_Case\", state=1)\n",
    "        # play x180 pulse\n",
    "        case_1.play(signal=sig[\"drive\"], pulse=reset_pulse)\n",
    "        match_case.add(case_0)\n",
    "        match_case.add(case_1)\n",
    "\n",
    "        reset.add(readout)\n",
    "        reset.add(match_case)\n",
    "        return reset\n",
    "\n",
    "    return reset_gate"
   ]
  },
  {
   "cell_type": "markdown",
   "id": "bb96086d",
   "metadata": {},
   "source": [
    "## Define a gate store (LabOne Q)\n",
    "\n",
    "The gate store defines the mapping between logical operations (i.e. those that appear in OpenQASM statements) and the physical operations (i.e. functions that define LabOne Q sections to play) above."
   ]
  },
  {
   "cell_type": "code",
   "execution_count": null,
   "id": "49f93bee",
   "metadata": {},
   "outputs": [],
   "source": [
    "gate_store = GateStore()\n",
    "\n",
    "# Note: the below may need to be updated to match the\n",
    "# names of your qubits from your QASM circuit!\n",
    "qubit_map = {\"_qubit0\": q0, \"_qubit1\": q1}\n",
    "\n",
    "# Single qubit gates:\n",
    "\n",
    "for oq3_qubit, l1q_qubit in qubit_map.items():\n",
    "    gate_store.register_gate_section(\"ry\", (oq3_qubit,), ry(l1q_qubit))\n",
    "    gate_store.register_gate_section(\"rz\", (oq3_qubit,), rz(l1q_qubit))\n",
    "    gate_store.register_gate_section(\"measure\", (oq3_qubit,), measurement(l1q_qubit))\n",
    "    gate_store.register_gate_section(\n",
    "        \"reset\", (oq3_qubit,), reset(l1q_qubit, drive_pulse(l1q_qubit, \"reset\"))\n",
    "    )\n",
    "\n",
    "# Two qubit gates:\n",
    "\n",
    "gate_store.register_gate_section(\"cx\", (\"_qubit0\", \"_qubit1\"), cx(q0, q1))"
   ]
  },
  {
   "cell_type": "markdown",
   "id": "a0597126",
   "metadata": {},
   "source": [
    "## Generate an OpenQASM3 program for the VQE ansatz (Qiskit)"
   ]
  },
  {
   "cell_type": "markdown",
   "id": "684ec8a0",
   "metadata": {},
   "source": [
    "### Define a parameterized circuit to optimize over.\n",
    "\n",
    "Here we use the `TwoLocal` circuit creator to define a two qubit circuit with four layers (i.e. three `reps`). Each layer performs an `Ry` and an `Rz` gate on each qubit, four a total of 16 parameters (four layers times four gates). A `CX` gate is applied to both qubits in between each layer. "
   ]
  },
  {
   "cell_type": "code",
   "execution_count": null,
   "id": "7885a242",
   "metadata": {},
   "outputs": [],
   "source": [
    "ansatz = TwoLocal(2, [\"ry\", \"rz\"], \"cx\", \"full\", reps=3, insert_barriers=True)\n",
    "ansatz.decompose().draw()"
   ]
  },
  {
   "cell_type": "markdown",
   "id": "1cf3b007",
   "metadata": {},
   "source": [
    "Now we can assign values to the parameters to generate a concrete circuit.\n",
    "We also add active qubit reset to initialise all qubits and a measurement of each qubit at the end. \n",
    "\n",
    "As a demonstration, we assign the values `[0.1, 0.15, ..., 0.85]` to the 16 parameters:"
   ]
  },
  {
   "cell_type": "code",
   "execution_count": null,
   "id": "9596ab58",
   "metadata": {},
   "outputs": [],
   "source": [
    "parameters = np.linspace(0.1, 0.85, 16)\n",
    "print(\"Parameters:\", parameters)\n",
    "circuit = ansatz.assign_parameters(parameters)\n",
    "\n",
    "# add active reset of both qubits at the start\n",
    "reset_circuit = QuantumCircuit(circuit.qubits)\n",
    "reset_circuit.reset(circuit.qubits)\n",
    "circuit = reset_circuit & circuit\n",
    "\n",
    "# add measurements for both qubits at the end\n",
    "circuit.add_bits(ClassicalRegister(size=2))\n",
    "circuit.measure(0, 0)\n",
    "circuit.measure(1, 1)\n",
    "\n",
    "circuit.decompose().draw()"
   ]
  },
  {
   "cell_type": "markdown",
   "id": "dc9959d4",
   "metadata": {},
   "source": [
    "## Generate and compile an experiment from the OpenQASM3 program (LabOne Q)\n",
    "\n",
    "Generate a LabOne Q experiment from the OpenQASM program and compile it."
   ]
  },
  {
   "cell_type": "code",
   "execution_count": null,
   "id": "c108538f",
   "metadata": {},
   "outputs": [],
   "source": [
    "program = q3.dumps(circuit.decompose())\n",
    "print(program)"
   ]
  },
  {
   "cell_type": "code",
   "execution_count": null,
   "id": "69147144",
   "metadata": {},
   "outputs": [],
   "source": [
    "# Import qasm into LabOne Q experiment\n",
    "\n",
    "exp = exp_from_qasm(program, qubits=qubit_map, gate_store=gate_store)\n",
    "\n",
    "my_session = Session(device_setup=device_setup)\n",
    "my_session.connect(do_emulation=True)\n",
    "compiled_exp = my_session.compile(exp)"
   ]
  },
  {
   "cell_type": "markdown",
   "id": "977fd9d2",
   "metadata": {},
   "source": [
    "### Plot the experiment"
   ]
  },
  {
   "cell_type": "code",
   "execution_count": null,
   "id": "6e0aae1e",
   "metadata": {},
   "outputs": [],
   "source": [
    "plot_simulation(compiled_exp, start_time=0, length=6e-6, plot_width=10, plot_height=3)"
   ]
  },
  {
   "cell_type": "markdown",
   "id": "293b5030",
   "metadata": {},
   "source": [
    "### Examine the pulse sheet"
   ]
  },
  {
   "cell_type": "code",
   "execution_count": null,
   "id": "b4e621ea",
   "metadata": {},
   "outputs": [],
   "source": [
    "show_pulse_sheet(\"QASM_program\", compiled_exp)\n",
    "# show_pulse_sheet(\"QASM_program\", compiled_exp, interactive=True)"
   ]
  },
  {
   "cell_type": "markdown",
   "id": "a4081264",
   "metadata": {},
   "source": [
    "### Run the experiment and look at results"
   ]
  },
  {
   "cell_type": "code",
   "execution_count": null,
   "id": "c28d0521",
   "metadata": {},
   "outputs": [],
   "source": [
    "my_results = my_session.run(compiled_exp)"
   ]
  },
  {
   "cell_type": "code",
   "execution_count": null,
   "id": "6cf9c100",
   "metadata": {},
   "outputs": [],
   "source": [
    "my_results.acquired_results"
   ]
  },
  {
   "cell_type": "code",
   "execution_count": null,
   "id": "b53d6824-1c0b-4b6a-8a7f-065ebc916ed5",
   "metadata": {},
   "outputs": [],
   "source": []
  }
 ],
 "metadata": {
  "kernelspec": {
   "display_name": "repo",
   "language": "python",
   "name": "python3"
  },
  "language_info": {
   "codemirror_mode": {
    "name": "ipython",
    "version": 3
   },
   "file_extension": ".py",
   "mimetype": "text/x-python",
   "name": "python",
   "nbconvert_exporter": "python",
   "pygments_lexer": "ipython3",
   "version": "3.12.1"
  }
 },
 "nbformat": 4,
 "nbformat_minor": 5
}
