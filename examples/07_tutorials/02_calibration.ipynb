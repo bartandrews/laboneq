{
 "cells": [
  {
   "cell_type": "markdown",
   "metadata": {},
   "source": [
    "# Calibration\n",
    "\n",
    "## Components and Purpose\n",
    "The calibration class in LabOne Q allows you to\n",
    "* apply settings to the instruments of the device setup\n",
    "* alter those settings temporarily for the duration of an experiment\n",
    "* sweep the value of specific nodes in real-time or near-time sweeps\n"
   ]
  }
 ],
 "metadata": {
  "kernelspec": {
   "display_name": "L1Q_2_36",
   "language": "python",
   "name": "python3"
  },
  "language_info": {
   "codemirror_mode": {
    "name": "ipython",
    "version": 3
   },
   "file_extension": ".py",
   "mimetype": "text/x-python",
   "name": "python",
   "nbconvert_exporter": "python",
   "pygments_lexer": "ipython3",
   "version": "3.11.9"
  }
 },
 "nbformat": 4,
 "nbformat_minor": 2
}
